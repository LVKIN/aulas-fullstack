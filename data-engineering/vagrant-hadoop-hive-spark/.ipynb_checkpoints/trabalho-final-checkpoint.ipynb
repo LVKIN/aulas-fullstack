{
 "cells": [
  {
   "cell_type": "markdown",
   "metadata": {},
   "source": [
    "## Carregando dados no spark"
   ]
  },
  {
   "cell_type": "code",
   "execution_count": 1,
   "metadata": {},
   "outputs": [
    {
     "name": "stdout",
     "output_type": "stream",
     "text": [
      "+------------------+-----------------+-----------+--------+--------------+---------------+----+---------------+-------------+-----+----------+---------------------+---------------------+----------------+---------------------+--------------------+--------+----------+\n",
      "|       num_boletim|data_hora_boletim|n_envolvido|condutor|cod_severidade|desc_severidade|sexo|cinto_seguranca|   Embreagues|Idade|nascimento|categoria_habilitacao|descricao_habilitacao|declaracao_obito|cod_severidade_antiga|     especie_veiculo|pedestre|passageiro|\n",
      "+------------------+-----------------+-----------+--------+--------------+---------------+----+---------------+-------------+-----+----------+---------------------+---------------------+----------------+---------------------+--------------------+--------+----------+\n",
      "|2019-007782522-001| 18/02/2019 19:24|          2|       S|             1|NAO FATAL      |   M|            SIM|          NÃO|   32|02/05/1986|                  AB | HABILITADO NAS CA...|               0|                    0|MOTOCICLETA      ...|       N|         N|\n",
      "|2019-007785539-001| 18/02/2019 19:53|          1|       S|             3|SEM FERIMENTOS |   M|            SIM|          NÃO|   30|25/11/1988|                  AB | HABILITADO NAS CA...|               0|                    0|AUTOMOVEL        ...|       N|         N|\n",
      "|2019-007785539-001| 18/02/2019 19:53|          2|       N|             1|NAO FATAL      |   F|            SIM|          NÃO|   20|18/02/1999|                     |                  ...|               0|                    0|AUTOMOVEL        ...|       N|         S|\n",
      "|2019-007785539-001| 18/02/2019 19:53|          3|       S|             3|SEM FERIMENTOS |   F|            SIM|          NÃO|   20|17/08/1998|                  N  | NAO INFORMADO    ...|               0|                    0|AUTOMOVEL        ...|       N|         N|\n",
      "|2019-007796448-001| 18/02/2019 21:16|          1|       S|             1|NAO FATAL      |   M|            SIM|          NÃO|   37|23/11/1981|                  AB | HABILITADO NAS CA...|               0|                    0|MOTOCICLETA      ...|       N|         N|\n",
      "|2019-007796448-001| 18/02/2019 21:16|          2|       S|             3|SEM FERIMENTOS |   M|            SIM|          NÃO|   55|27/07/1963|                  B  | VEICULOS MOTOR. C...|               0|                    0|AUTOMOVEL        ...|       N|         N|\n",
      "|2019-007819262-001| 19/02/2019 01:30|          1|       S|             1|NAO FATAL      |   M|            SIM|          NÃO|   25|31/05/1993|                  IN | INABILITADO      ...|               0|                    0|AUTOMOVEL        ...|       N|         N|\n",
      "|2019-007831003-001| 19/02/2019 07:00|          1|       S|             3|SEM FERIMENTOS |   M|            SIM|          NÃO|   47|16/04/1971|                  B  | VEICULOS MOTOR. C...|               0|                    0|AUTOMOVEL        ...|       N|         N|\n",
      "|2019-007831003-001| 19/02/2019 07:00|          2|       S|             1|NAO FATAL      |   M|            SIM|          NÃO|   20|16/08/1998|                  A  | VEï¿½CULO MOTORIZ...|               0|                    0|MOTOCICLETA      ...|       N|         N|\n",
      "|2019-007831003-001| 19/02/2019 07:00|          3|       N|             3|SEM FERIMENTOS |   M|            SIM|          NÃO|   20|19/04/1998|                     |                  ...|               0|                    0|MOTOCICLETA      ...|       N|         S|\n",
      "|2019-007833121-001| 19/02/2019 06:56|          1|       S|             1|NAO FATAL      |   M|            SIM|          NÃO|   35|19/04/1983|                  AB | HABILITADO NAS CA...|               0|                    0|MOTOCICLETA      ...|       N|         N|\n",
      "|2019-007833121-001| 19/02/2019 06:56|          2|       S|             3|SEM FERIMENTOS |   M|            SIM|          NÃO|   59|16/09/1959|                  D  | VEIC. MOTOR. P/ T...|               0|                    0|AUTOMOVEL        ...|       N|         N|\n",
      "|2019-007833344-001| 19/02/2019 07:12|          1|       S|             3|SEM FERIMENTOS |   F|            SIM|          NÃO|   53|05/09/1965|                  B  | VEICULOS MOTOR. C...|               0|                    0|AUTOMOVEL        ...|       N|         N|\n",
      "|2019-007833344-001| 19/02/2019 07:12|          2|       S|             1|NAO FATAL      |   M|            NÃO|NÃO INFORMADO|    0|00/00/0000|                  N  | NAO INFORMADO    ...|               0|                    0|MOTOCICLETA      ...|    null|      null|\n",
      "|2019-007834678-001| 19/02/2019 08:04|          1|       S|             3|SEM FERIMENTOS |   M|            SIM|          NÃO|   28|23/02/1990|                  B  | VEICULOS MOTOR. C...|               0|                    0|AUTOMOVEL        ...|       N|         N|\n",
      "|2019-007834678-001| 19/02/2019 08:04|          2|       S|             1|NAO FATAL      |   M|            SIM|          NÃO|   38|29/12/1980|                  AB | HABILITADO NAS CA...|               0|                    0|MOTOCICLETA      ...|       N|         N|\n",
      "|2019-007845050-001| 19/02/2019 08:42|          1|       S|             3|SEM FERIMENTOS |   F|            SIM|          NÃO|   28|26/02/1990|                  B  | VEICULOS MOTOR. C...|               0|                    0|AUTOMOVEL        ...|       N|         N|\n",
      "|2019-007845050-001| 19/02/2019 08:42|          2|       S|             1|NAO FATAL      |   M|            SIM|          NÃO|   44|25/10/1974|                  AB | HABILITADO NAS CA...|               0|                    0|MOTOCICLETA      ...|       N|         N|\n",
      "|2019-007846854-001| 19/02/2019 08:51|          1|       S|             1|NAO FATAL      |   M|            SIM|          NÃO|   24|19/03/1994|                  AB | HABILITADO NAS CA...|               0|                    0|MOTOCICLETA      ...|       N|         N|\n",
      "|2019-007846854-001| 19/02/2019 08:51|          2|       S|             3|SEM FERIMENTOS |   M|            SIM|          NÃO|   65|21/02/1953|                  B  | VEICULOS MOTOR. C...|               0|                    0|AUTOMOVEL        ...|       N|         N|\n",
      "+------------------+-----------------+-----------+--------+--------------+---------------+----+---------------+-------------+-----+----------+---------------------+---------------------+----------------+---------------------+--------------------+--------+----------+\n",
      "only showing top 20 rows\n",
      "\n",
      "+------------------+-----------------+----------------+-------------+--------------------+---------+---------------+-------------+---------------+------------+---------------+---------------+----------------+--------------------+-------------+-------------+--------------+--------------------+---------+-------------+-------------------+----------------+--------------------+\n",
      "|       num_boletim|DATA HORA_BOLETIM|   DATA_INCLUSAO|TIPO_ACIDENTE|  DESC_TIPO_ACIDENTE|COD_TEMPO|     DESC_TEMPO|COD_PAVIMENTO|      PAVIMENTO|COD_REGIONAL|  DESC_REGIONAL| ORIGEM_BOLETIM|LOCAL_SINALIZADO|VELOCIDADE_PERMITIDA| COORDENADA_X| COORDENADA_Y|HORA_INFORMADA|INDICADOR_FATALIDADE|VALOR_UPS|DESCRIÇÃO_UPS|DATA_ALTERACAO_SMSA|VALOR_UPS_ANTIGA|DESCRIÇÃO_UPS_ANTIGA|\n",
      "+------------------+-----------------+----------------+-------------+--------------------+---------+---------------+-------------+---------------+------------+---------------+---------------+----------------+--------------------+-------------+-------------+--------------+--------------------+---------+-------------+-------------------+----------------+--------------------+\n",
      "|2019-000009538-001| 01/01/2019 01:40|01/01/2019 02:31|       H01002|ABALROAMENTO COM ...|        1|BOM            |            1|ASFALTO        |          19|CENTRO-SUL     |POLICIA MILITAR|           Nï¿½O|                   0|0000611366.53|0007795449.66|           SIM|               Nï¿½O|        0|NÃO INFORMADO|         00/00/0000|               0|       NÃO INFORMADO|\n",
      "|2019-000011370-001| 01/01/2019 02:46|01/01/2019 07:25|       H06002|ATROPELAMENTO DE ...|        0|NAO INFORMADO  |            0|NAO INFORMADO  |          25|PAMPULHA       |POLICIA MILITAR|           Nï¿½O|                   0|0000608296.30|0007804869.40|           SIM|               Nï¿½O|        0|NÃO INFORMADO|         00/00/0000|               0|       NÃO INFORMADO|\n",
      "|2019-000013510-001| 01/01/2019 02:19|01/01/2019 03:24|       H01002|ABALROAMENTO COM ...|        0|NAO INFORMADO  |            0|NAO INFORMADO  |          19|CENTRO-SUL     |POLICIA MILITAR|           Nï¿½O|                   0|0000611684.46|0007796235.17|           SIM|               Nï¿½O|        0|NÃO INFORMADO|         00/00/0000|               0|       NÃO INFORMADO|\n",
      "|2019-000017471-001| 01/01/2019 03:18|01/01/2019 04:25|       H01002|ABALROAMENTO COM ...|        0|NAO INFORMADO  |            0|NAO INFORMADO  |          20|LESTE          |POLICIA MILITAR|           Nï¿½O|                   0|0000614254.84|0007796496.29|           SIM|               Nï¿½O|        0|NÃO INFORMADO|         00/00/0000|               0|       NÃO INFORMADO|\n",
      "|2019-000020120-001| 01/01/2019 04:26|01/01/2019 05:06|       H01002|ABALROAMENTO COM ...|        4|NUBLADO        |            1|ASFALTO        |          20|LESTE          |POLICIA MILITAR|           Nï¿½O|                   0|0000612733.57|0007799405.68|           SIM|               Nï¿½O|        0|NÃO INFORMADO|         00/00/0000|               0|       NÃO INFORMADO|\n",
      "|2019-000028233-001| 01/01/2019 07:12|01/01/2019 08:00|       H08002|CHOQUE MECANICO C...|        2|CHUVA          |            1|ASFALTO        |          23|NORTE          |POLICIA MILITAR|           Nï¿½O|                   0|0000611707.91|0007803517.80|           SIM|               Nï¿½O|        0|NÃO INFORMADO|         00/00/0000|               0|       NÃO INFORMADO|\n",
      "|2019-000030323-001| 01/01/2019 02:00|01/01/2019 08:46|       H01002|ABALROAMENTO COM ...|        2|CHUVA          |            1|ASFALTO        |          18|BARREIRO       |POLICIA MILITAR|           Nï¿½O|                   0|0000603620.24|0007787305.95|           SIM|               Nï¿½O|        0|NÃO INFORMADO|         00/00/0000|               0|       NÃO INFORMADO|\n",
      "|2019-000030611-001| 01/01/2019 06:30|01/01/2019 08:51|       H01002|ABALROAMENTO COM ...|        0|NAO INFORMADO  |            0|NAO INFORMADO  |          22|NOROESTE       |POLICIA MILITAR|           Nï¿½O|                   0|0000607441.02|0007797479.90|           SIM|               Nï¿½O|        0|NÃO INFORMADO|         00/00/0000|               0|       NÃO INFORMADO|\n",
      "|2019-000033132-001| 01/01/2019 08:17|01/01/2019 09:47|       H08002|CHOQUE MECANICO C...|        0|NAO INFORMADO  |            0|NAO INFORMADO  |          22|NOROESTE       |POLICIA MILITAR|           Nï¿½O|                   0|0000608450.35|0007797938.04|           SIM|               Nï¿½O|        0|NÃO INFORMADO|         00/00/0000|               0|       NÃO INFORMADO|\n",
      "|2019-000042096-001| 01/01/2019 11:11|01/01/2019 12:22|       H08002|CHOQUE MECANICO C...|        0|NAO INFORMADO  |            0|NAO INFORMADO  |          18|BARREIRO       |POLICIA MILITAR|           Nï¿½O|                   0|0000603117.00|0007789361.29|           SIM|               Nï¿½O|        0|NÃO INFORMADO|         00/00/0000|               0|       NÃO INFORMADO|\n",
      "|2019-000068523-001| 01/01/2019 16:56|01/01/2019 17:34|       H01002|ABALROAMENTO COM ...|        1|BOM            |            1|ASFALTO        |          22|NOROESTE       |POLICIA MILITAR|           Nï¿½O|                   0|0000609447.12|0007800419.29|           SIM|               Nï¿½O|        0|NÃO INFORMADO|         00/00/0000|               0|       NÃO INFORMADO|\n",
      "|2019-000078033-001| 01/01/2019 18:09|01/01/2019 19:02|       H01002|ABALROAMENTO COM ...|        1|BOM            |            1|ASFALTO        |          19|CENTRO-SUL     |POLICIA MILITAR|           Nï¿½O|                   0|0000611086.36|0007797118.61|           SIM|               Nï¿½O|        0|NÃO INFORMADO|         00/00/0000|               0|       NÃO INFORMADO|\n",
      "|2019-000080688-001| 01/01/2019 18:47|01/01/2019 19:27|       H08002|CHOQUE MECANICO C...|        1|BOM            |            1|ASFALTO        |          24|OESTE          |POLICIA MILITAR|           Nï¿½O|                   0|0000604768.27|0007795070.34|           SIM|               Nï¿½O|        0|NÃO INFORMADO|         00/00/0000|               0|       NÃO INFORMADO|\n",
      "|2019-000084238-001| 01/01/2019 19:12|01/01/2019 20:04|       H04000|QUEDA DE PESSOA D...|        1|BOM            |            1|ASFALTO        |          18|BARREIRO       |POLICIA MILITAR|           Nï¿½O|                   0|0000600959.75|0007789205.25|           SIM|               Nï¿½O|        0|NÃO INFORMADO|         00/00/0000|               0|       NÃO INFORMADO|\n",
      "|2019-000091803-001| 01/01/2019 20:29|01/01/2019 21:30|       H01002|ABALROAMENTO COM ...|        1|BOM            |            1|ASFALTO        |          26|VENDA NOVA     |POLICIA MILITAR|           Nï¿½O|                   0|0000609682.42|0007809885.36|           SIM|               Nï¿½O|        0|NÃO INFORMADO|         00/00/0000|               0|       NÃO INFORMADO|\n",
      "|2019-000096546-001| 01/01/2019 21:10|01/01/2019 22:15|       H06002|ATROPELAMENTO DE ...|        0|NAO INFORMADO  |            0|NAO INFORMADO  |          21|NORDESTE       |POLICIA MILITAR|           Nï¿½O|                   0|0000616705.34|0007804640.18|           SIM|               Nï¿½O|        0|NÃO INFORMADO|         00/00/0000|               0|       NÃO INFORMADO|\n",
      "|2019-000100286-001| 01/01/2019 22:30|01/01/2019 22:49|       H01002|ABALROAMENTO COM ...|        1|BOM            |            1|ASFALTO        |           0|               |POLICIA MILITAR|           Nï¿½O|                   0|0000000000.00|0000000000.00|           SIM|               Nï¿½O|        0|NÃO INFORMADO|         00/00/0000|               0|       NÃO INFORMADO|\n",
      "|2019-000123419-001| 02/01/2019 05:39|02/01/2019 07:04|       H09002|COLISAO DE VEICUL...|        1|BOM            |            1|ASFALTO        |          24|OESTE          |POLICIA MILITAR|           Nï¿½O|                   0|0000000000.00|0000000000.00|           SIM|               Nï¿½O|        0|NÃO INFORMADO|         00/00/0000|               0|       NÃO INFORMADO|\n",
      "|2019-000123960-001| 02/01/2019 06:08|02/01/2019 07:15|       H08002|CHOQUE MECANICO C...|        1|BOM            |            1|ASFALTO        |          25|PAMPULHA       |POLICIA MILITAR|           Nï¿½O|                   0|0000606467.74|0007806037.96|           SIM|               Nï¿½O|        0|NÃO INFORMADO|         00/00/0000|               0|       NÃO INFORMADO|\n",
      "|2019-000127523-001| 02/01/2019 07:52|02/01/2019 08:20|       H08002|CHOQUE MECANICO C...|        0|NAO INFORMADO  |            0|NAO INFORMADO  |          21|NORDESTE       |POLICIA MILITAR|           Nï¿½O|                   0|0000609907.21|0007799966.24|           SIM|               Nï¿½O|        0|NÃO INFORMADO|         00/00/0000|               0|       NÃO INFORMADO|\n",
      "+------------------+-----------------+----------------+-------------+--------------------+---------+---------------+-------------+---------------+------------+---------------+---------------+----------------+--------------------+-------------+-------------+--------------+--------------------+---------+-------------+-------------------+----------------+--------------------+\n",
      "only showing top 20 rows\n",
      "\n"
     ]
    },
    {
     "name": "stdout",
     "output_type": "stream",
     "text": [
      "+------------------+----------------+------------+--------------------+---------------+-------------+---------------+--------------------+------------------------+------------------------+---------+--------------------+-----------+---------------------+---------+-----------------+\n",
      "|       num_boletim|    data_boletim|N°_municipio|      nome_municipio|seq_logradouros|N°_logradouro|tipo_logradouro|     nome_logradouro|tipo_logradouro_anterior|nome_logradouro_anterior|N°_bairro|         nome_bairro|tipo_bairro|descricao_tipo_bairro|N°_imovel|N°_imovel_proximo|\n",
      "+------------------+----------------+------------+--------------------+---------------+-------------+---------------+--------------------+------------------------+------------------------+---------+--------------------+-----------+---------------------+---------+-----------------+\n",
      "|2019-049379035-001|09/10/2019 06:46|           1|BELO HORIZONTE   ...|              1|       117712|            RUA|JOAO ARANTES     ...|                     RUA|    CINQUENTA E UM   ...|      645|CIDADE NOVA      ...|         B | BAIRRO           ...|        0|                0|\n",
      "|2019-054073526-001|04/11/2019 06:19|           1|BELO HORIZONTE   ...|              1|       116606|            RUA|SUDAO            ...|                     RUA|    UM               ...|      634|CANAA            ...|         B | BAIRRO           ...|      234|                0|\n",
      "|2019-001886486-001|13/01/2019 16:11|           1|BELO HORIZONTE   ...|              2|       116791|            RUA|MARIA VAZ DE MELO...|                     RUA|    TRES             ...|      662|DONA CLARA       ...|         B | BAIRRO           ...|        0|                0|\n",
      "|2019-011110287-001|10/03/2019 00:37|           1|BELO HORIZONTE   ...|              1|       116892|            RUA|AGENOR JOSE DOS A...|                     RUA|    F                ...|      763|SANTA CRUZ       ...|         B | BAIRRO           ...|        0|                0|\n",
      "|2019-003120207-001|21/01/2019 12:00|           1|BELO HORIZONTE   ...|              1|       117044|            RUA|CONTORNO         ...|                     RUA|    DO CONTORNO      ...|      684|GLORIA           ...|         B | BAIRRO           ...|        0|                0|\n",
      "|2019-049508784-001|09/10/2019 17:46|           1|BELO HORIZONTE   ...|              2|       117044|            RUA|CONTORNO         ...|                     RUA|    DO CONTORNO      ...|      617|BARRO PRETO      ...|         B | BAIRRO           ...|        0|                0|\n",
      "|2019-027334450-001|10/06/2019 16:26|           1|BELO HORIZONTE   ...|              1|       117044|            RUA|CONTORNO         ...|                     RUA|    DO CONTORNO      ...|      740|PALMARES         ...|         B | BAIRRO           ...|      179|                0|\n",
      "|2019-005623066-001|05/02/2019 17:42|           1|BELO HORIZONTE   ...|              2|       117044|            RUA|CONTORNO         ...|                     RUA|    DO CONTORNO      ...|      740|PALMARES         ...|         B | BAIRRO           ...|        0|                0|\n",
      "|2019-005623066-001|05/02/2019 17:42|           1|BELO HORIZONTE   ...|              1|       117057|            RUA|JORGE ANGEL LIVRA...|                     RUA|    TRINTA E DOIS    ...|      740|PALMARES         ...|         B | BAIRRO           ...|        0|                0|\n",
      "|2019-028097298-001|14/06/2019 13:46|           1|BELO HORIZONTE   ...|              2|       116054|            RUA|DOUTOR JOAO MIRAN...|                     RUA|    QUARENTA E QUATRO...|      662|DONA CLARA       ...|         B | BAIRRO           ...|        0|                0|\n",
      "|2019-005418779-001|04/02/2019 09:05|           1|BELO HORIZONTE   ...|              2|       116054|            RUA|DOUTOR JOAO MIRAN...|                     RUA|    QUARENTA E QUATRO...|      662|DONA CLARA       ...|         B | BAIRRO           ...|        0|                0|\n",
      "|2019-015936846-001|06/04/2019 15:12|           1|BELO HORIZONTE   ...|              2|       116054|            RUA|DOUTOR JOAO MIRAN...|                     RUA|    QUARENTA E QUATRO...|      662|DONA CLARA       ...|         B | BAIRRO           ...|        6|                0|\n",
      "|2019-019386950-001|24/04/2019 12:20|           1|BELO HORIZONTE   ...|              1|       116101|            AVE|SEBASTIAO DE BRIT...|                     AVE|    UM               ...|      773|SANTA ROSA       ...|         B | BAIRRO           ...|      300|                0|\n",
      "|2019-019549510-002|27/04/2019 03:33|           1|BELO HORIZONTE   ...|              2|       116101|            AVE|SEBASTIAO DE BRIT...|                     AVE|    UM               ...|      773|SANTA ROSA       ...|         B | BAIRRO           ...|        0|                0|\n",
      "|2019-019942463-001|29/04/2019 17:08|           1|BELO HORIZONTE   ...|              1|       116101|            AVE|SEBASTIAO DE BRIT...|                     AVE|    UM               ...|      773|SANTA ROSA       ...|         B | BAIRRO           ...|      388|                0|\n",
      "|2019-001308815-001|09/01/2019 18:42|           1|BELO HORIZONTE   ...|              2|       116101|            AVE|SEBASTIAO DE BRIT...|                     AVE|    UM               ...|      773|SANTA ROSA       ...|         B | BAIRRO           ...|        0|                0|\n",
      "|2019-001886486-001|13/01/2019 16:11|           1|BELO HORIZONTE   ...|              1|       116101|            AVE|SEBASTIAO DE BRIT...|                     AVE|    UM               ...|      773|SANTA ROSA       ...|         B | BAIRRO           ...|        0|                0|\n",
      "|2019-057942446-001|25/11/2019 14:23|           1|BELO HORIZONTE   ...|              1|       116101|            AVE|SEBASTIAO DE BRIT...|                     AVE|    UM               ...|      773|SANTA ROSA       ...|         B | BAIRRO           ...|        0|                0|\n",
      "|2019-052215258-001|23/10/2019 17:40|           1|BELO HORIZONTE   ...|              1|       116101|            AVE|SEBASTIAO DE BRIT...|                     AVE|    UM               ...|      773|SANTA ROSA       ...|         B | BAIRRO           ...|      300|                0|\n",
      "|2020-001018081-001|04/11/2019 16:00|           1|BELO HORIZONTE   ...|              1|       116101|            AVE|SEBASTIAO DE BRIT...|                     AVE|    UM               ...|      773|SANTA ROSA       ...|         B | BAIRRO           ...|      100|                0|\n",
      "+------------------+----------------+------------+--------------------+---------------+-------------+---------------+--------------------+------------------------+------------------------+---------+--------------------+-----------+---------------------+---------+-----------------+\n",
      "only showing top 20 rows\n",
      "\n"
     ]
    }
   ],
   "source": [
    "# carregando arquivos do hdfs\n",
    "\n",
    "pessoasAcidentesTransito = spark.read.csv(\"hdfs://node1:8020//user/vagrant/dados/pessoasAcidentesTransito/*\", sep=';', header=True, encoding = 'latin1')\n",
    "\n",
    "ocorrenciasTransito = spark.read.csv(\"hdfs://node1:8020//user/vagrant/dados/ocorrenciasTransito/*\", sep=';', header=True, encoding = 'latin1')\n",
    "\n",
    "logradourosAcidentesTransito = spark.read.csv(\"hdfs://node1:8020//user/vagrant/dados/logradourosAcidentesTransito/*\", sep=';', header=True, encoding = 'latin1')\n",
    "\n",
    "pessoasAcidentesTransito.show()\n",
    "\n",
    "ocorrenciasTransito.show()\n",
    "\n",
    "logradourosAcidentesTransito.show()"
   ]
  },
  {
   "cell_type": "markdown",
   "metadata": {},
   "source": [
    "## Join das tabelas"
   ]
  },
  {
   "cell_type": "code",
   "execution_count": 2,
   "metadata": {},
   "outputs": [
    {
     "name": "stdout",
     "output_type": "stream",
     "text": [
      "+------------------+-----------------+-----------+--------+--------------+---------------+----+---------------+-------------+-----+----------+---------------------+---------------------+----------------+---------------------+--------------------+--------+----------+-----------------+----------------+-------------+--------------------+---------+---------------+-------------+---------------+------------+---------------+---------------+----------------+--------------------+-------------+-------------+--------------+--------------------+---------+-------------+-------------------+----------------+--------------------+----------------+------------+--------------------+---------------+-------------+---------------+--------------------+------------------------+------------------------+---------+--------------------+-----------+---------------------+---------+-----------------+\n",
      "|       num_boletim|data_hora_boletim|n_envolvido|condutor|cod_severidade|desc_severidade|sexo|cinto_seguranca|   Embreagues|Idade|nascimento|categoria_habilitacao|descricao_habilitacao|declaracao_obito|cod_severidade_antiga|     especie_veiculo|pedestre|passageiro|DATA HORA_BOLETIM|   DATA_INCLUSAO|TIPO_ACIDENTE|  DESC_TIPO_ACIDENTE|COD_TEMPO|     DESC_TEMPO|COD_PAVIMENTO|      PAVIMENTO|COD_REGIONAL|  DESC_REGIONAL| ORIGEM_BOLETIM|LOCAL_SINALIZADO|VELOCIDADE_PERMITIDA| COORDENADA_X| COORDENADA_Y|HORA_INFORMADA|INDICADOR_FATALIDADE|VALOR_UPS|DESCRIÇÃO_UPS|DATA_ALTERACAO_SMSA|VALOR_UPS_ANTIGA|DESCRIÇÃO_UPS_ANTIGA|    data_boletim|N°_municipio|      nome_municipio|seq_logradouros|N°_logradouro|tipo_logradouro|     nome_logradouro|tipo_logradouro_anterior|nome_logradouro_anterior|N°_bairro|         nome_bairro|tipo_bairro|descricao_tipo_bairro|N°_imovel|N°_imovel_proximo|\n",
      "+------------------+-----------------+-----------+--------+--------------+---------------+----+---------------+-------------+-----+----------+---------------------+---------------------+----------------+---------------------+--------------------+--------+----------+-----------------+----------------+-------------+--------------------+---------+---------------+-------------+---------------+------------+---------------+---------------+----------------+--------------------+-------------+-------------+--------------+--------------------+---------+-------------+-------------------+----------------+--------------------+----------------+------------+--------------------+---------------+-------------+---------------+--------------------+------------------------+------------------------+---------+--------------------+-----------+---------------------+---------+-----------------+\n",
      "|2019-007782522-001| 18/02/2019 19:24|          2|       S|             1|NAO FATAL      |   M|            SIM|          NÃO|   32|02/05/1986|                  AB | HABILITADO NAS CA...|               0|                    0|MOTOCICLETA      ...|       N|         N| 18/02/2019 19:24|18/02/2019 20:23|       H01002|ABALROAMENTO COM ...|        1|BOM            |            1|ASFALTO        |          20|LESTE          |POLICIA MILITAR|           Nï¿½O|                   0|0000613885.84|0007799317.01|           SIM|               Nï¿½O|        0|NÃO INFORMADO|         00/00/0000|               0|       NÃO INFORMADO|18/02/2019 19:24|           1|BELO HORIZONTE   ...|              1|        32617|            RUA|GUSTAVO DA SILVEI...|                     NI |    N?O INFORMADO    ...|     1331|HORTO FLORESTAL  ...|         B | BAIRRO           ...|      667|                0|\n",
      "|2019-007785539-001| 18/02/2019 19:53|          1|       S|             3|SEM FERIMENTOS |   M|            SIM|          NÃO|   30|25/11/1988|                  AB | HABILITADO NAS CA...|               0|                    0|AUTOMOVEL        ...|       N|         N| 18/02/2019 19:53|18/02/2019 20:45|       H01002|ABALROAMENTO COM ...|        2|CHUVA          |            1|ASFALTO        |          25|PAMPULHA       |POLICIA MILITAR|           Nï¿½O|                   0|0000000000.00|0000000000.00|           SIM|               Nï¿½O|        0|NÃO INFORMADO|         00/00/0000|               0|       NÃO INFORMADO|18/02/2019 19:53|           1|BELO HORIZONTE   ...|              1|        10320|            ROD|ANEL RODOVIARIO C...|                     RUA|    EXPEDICIONARIO OL...|      907|SUZANA           ...|         V | VILA             ...|      542|                0|\n",
      "|2019-007785539-001| 18/02/2019 19:53|          2|       N|             1|NAO FATAL      |   F|            SIM|          NÃO|   20|18/02/1999|                     |                  ...|               0|                    0|AUTOMOVEL        ...|       N|         S| 18/02/2019 19:53|18/02/2019 20:45|       H01002|ABALROAMENTO COM ...|        2|CHUVA          |            1|ASFALTO        |          25|PAMPULHA       |POLICIA MILITAR|           Nï¿½O|                   0|0000000000.00|0000000000.00|           SIM|               Nï¿½O|        0|NÃO INFORMADO|         00/00/0000|               0|       NÃO INFORMADO|18/02/2019 19:53|           1|BELO HORIZONTE   ...|              1|        10320|            ROD|ANEL RODOVIARIO C...|                     RUA|    EXPEDICIONARIO OL...|      907|SUZANA           ...|         V | VILA             ...|      542|                0|\n",
      "|2019-007785539-001| 18/02/2019 19:53|          3|       S|             3|SEM FERIMENTOS |   F|            SIM|          NÃO|   20|17/08/1998|                  N  | NAO INFORMADO    ...|               0|                    0|AUTOMOVEL        ...|       N|         N| 18/02/2019 19:53|18/02/2019 20:45|       H01002|ABALROAMENTO COM ...|        2|CHUVA          |            1|ASFALTO        |          25|PAMPULHA       |POLICIA MILITAR|           Nï¿½O|                   0|0000000000.00|0000000000.00|           SIM|               Nï¿½O|        0|NÃO INFORMADO|         00/00/0000|               0|       NÃO INFORMADO|18/02/2019 19:53|           1|BELO HORIZONTE   ...|              1|        10320|            ROD|ANEL RODOVIARIO C...|                     RUA|    EXPEDICIONARIO OL...|      907|SUZANA           ...|         V | VILA             ...|      542|                0|\n",
      "|2019-007796448-001| 18/02/2019 21:16|          1|       S|             1|NAO FATAL      |   M|            SIM|          NÃO|   37|23/11/1981|                  AB | HABILITADO NAS CA...|               0|                    0|MOTOCICLETA      ...|       N|         N| 18/02/2019 21:16|18/02/2019 22:17|       H01002|ABALROAMENTO COM ...|        0|NAO INFORMADO  |            0|NAO INFORMADO  |          22|NOROESTE       |POLICIA MILITAR|           Nï¿½O|                   0|0000606404.07|0007798390.76|           SIM|               Nï¿½O|        0|NÃO INFORMADO|         00/00/0000|               0|       NÃO INFORMADO|18/02/2019 21:16|           1|BELO HORIZONTE   ...|              1|        53145|            AVE|DOM PEDRO II     ...|                     AVE|    CARLOS PRATES    ...|      704|JARDIM MONTANHES ...|         B | BAIRRO           ...|     4715|                0|\n",
      "|2019-007796448-001| 18/02/2019 21:16|          2|       S|             3|SEM FERIMENTOS |   M|            SIM|          NÃO|   55|27/07/1963|                  B  | VEICULOS MOTOR. C...|               0|                    0|AUTOMOVEL        ...|       N|         N| 18/02/2019 21:16|18/02/2019 22:17|       H01002|ABALROAMENTO COM ...|        0|NAO INFORMADO  |            0|NAO INFORMADO  |          22|NOROESTE       |POLICIA MILITAR|           Nï¿½O|                   0|0000606404.07|0007798390.76|           SIM|               Nï¿½O|        0|NÃO INFORMADO|         00/00/0000|               0|       NÃO INFORMADO|18/02/2019 21:16|           1|BELO HORIZONTE   ...|              1|        53145|            AVE|DOM PEDRO II     ...|                     AVE|    CARLOS PRATES    ...|      704|JARDIM MONTANHES ...|         B | BAIRRO           ...|     4715|                0|\n",
      "|2019-007819262-001| 19/02/2019 01:30|          1|       S|             1|NAO FATAL      |   M|            SIM|          NÃO|   25|31/05/1993|                  IN | INABILITADO      ...|               0|                    0|AUTOMOVEL        ...|       N|         N| 19/02/2019 01:30|19/02/2019 03:07|       H08002|CHOQUE MECANICO C...|        0|NAO INFORMADO  |            0|NAO INFORMADO  |          25|PAMPULHA       |POLICIA CIVIL  |           Nï¿½O|                   0|0000609140.29|0007803207.41|           SIM|               Nï¿½O|        0|NÃO INFORMADO|         00/00/0000|               0|       NÃO INFORMADO|19/02/2019 01:30|           1|BELO HORIZONTE   ...|              1|         4461|            AVE|PRESIDENTE ANTONI...|                     AVE|    PAMPULHA         ...|      633|CAMPUS UFMG      ...|         A | AREA             ...|     6627|                0|\n",
      "|2019-007831003-001| 19/02/2019 07:00|          1|       S|             3|SEM FERIMENTOS |   M|            SIM|          NÃO|   47|16/04/1971|                  B  | VEICULOS MOTOR. C...|               0|                    0|AUTOMOVEL        ...|       N|         N| 19/02/2019 07:00|19/02/2019 07:52|       H08002|CHOQUE MECANICO C...|        2|CHUVA          |            1|ASFALTO        |          21|NORDESTE       |POLICIA MILITAR|           Nï¿½O|                   0|0000614021.40|0007801703.82|           SIM|               Nï¿½O|        0|NÃO INFORMADO|         00/00/0000|               0|       NÃO INFORMADO|19/02/2019 07:00|           1|BELO HORIZONTE   ...|              1|        12602|            AVE|JOSE CANDIDO DA S...|                     AVE|    BORBA GATO       ...|     1372|PENHA            ...|         B | BAIRRO           ...|     2805|                0|\n",
      "|2019-007831003-001| 19/02/2019 07:00|          2|       S|             1|NAO FATAL      |   M|            SIM|          NÃO|   20|16/08/1998|                  A  | VEï¿½CULO MOTORIZ...|               0|                    0|MOTOCICLETA      ...|       N|         N| 19/02/2019 07:00|19/02/2019 07:52|       H08002|CHOQUE MECANICO C...|        2|CHUVA          |            1|ASFALTO        |          21|NORDESTE       |POLICIA MILITAR|           Nï¿½O|                   0|0000614021.40|0007801703.82|           SIM|               Nï¿½O|        0|NÃO INFORMADO|         00/00/0000|               0|       NÃO INFORMADO|19/02/2019 07:00|           1|BELO HORIZONTE   ...|              1|        12602|            AVE|JOSE CANDIDO DA S...|                     AVE|    BORBA GATO       ...|     1372|PENHA            ...|         B | BAIRRO           ...|     2805|                0|\n",
      "|2019-007831003-001| 19/02/2019 07:00|          3|       N|             3|SEM FERIMENTOS |   M|            SIM|          NÃO|   20|19/04/1998|                     |                  ...|               0|                    0|MOTOCICLETA      ...|       N|         S| 19/02/2019 07:00|19/02/2019 07:52|       H08002|CHOQUE MECANICO C...|        2|CHUVA          |            1|ASFALTO        |          21|NORDESTE       |POLICIA MILITAR|           Nï¿½O|                   0|0000614021.40|0007801703.82|           SIM|               Nï¿½O|        0|NÃO INFORMADO|         00/00/0000|               0|       NÃO INFORMADO|19/02/2019 07:00|           1|BELO HORIZONTE   ...|              1|        12602|            AVE|JOSE CANDIDO DA S...|                     AVE|    BORBA GATO       ...|     1372|PENHA            ...|         B | BAIRRO           ...|     2805|                0|\n",
      "|2019-007833121-001| 19/02/2019 06:56|          1|       S|             1|NAO FATAL      |   M|            SIM|          NÃO|   35|19/04/1983|                  AB | HABILITADO NAS CA...|               0|                    0|MOTOCICLETA      ...|       N|         N| 19/02/2019 06:56|19/02/2019 08:14|       H08002|CHOQUE MECANICO C...|        0|NAO INFORMADO  |            0|NAO INFORMADO  |          24|OESTE          |POLICIA MILITAR|           Nï¿½O|                   0|0000609407.53|0007791594.06|           SIM|               Nï¿½O|        0|NÃO INFORMADO|         00/00/0000|               0|       NÃO INFORMADO|19/02/2019 06:56|           1|BELO HORIZONTE   ...|              1|        57830|            AVE|RAJA GABAGLIA    ...|                     NI |    N?O INFORMADO    ...|      768|SANTA LUCIA      ...|         B | BAIRRO           ...|     4500|                0|\n",
      "|2019-007833121-001| 19/02/2019 06:56|          2|       S|             3|SEM FERIMENTOS |   M|            SIM|          NÃO|   59|16/09/1959|                  D  | VEIC. MOTOR. P/ T...|               0|                    0|AUTOMOVEL        ...|       N|         N| 19/02/2019 06:56|19/02/2019 08:14|       H08002|CHOQUE MECANICO C...|        0|NAO INFORMADO  |            0|NAO INFORMADO  |          24|OESTE          |POLICIA MILITAR|           Nï¿½O|                   0|0000609407.53|0007791594.06|           SIM|               Nï¿½O|        0|NÃO INFORMADO|         00/00/0000|               0|       NÃO INFORMADO|19/02/2019 06:56|           1|BELO HORIZONTE   ...|              1|        57830|            AVE|RAJA GABAGLIA    ...|                     NI |    N?O INFORMADO    ...|      768|SANTA LUCIA      ...|         B | BAIRRO           ...|     4500|                0|\n",
      "|2019-007833344-001| 19/02/2019 07:12|          1|       S|             3|SEM FERIMENTOS |   F|            SIM|          NÃO|   53|05/09/1965|                  B  | VEICULOS MOTOR. C...|               0|                    0|AUTOMOVEL        ...|       N|         N| 19/02/2019 07:12|19/02/2019 08:17|       H01002|ABALROAMENTO COM ...|        0|NAO INFORMADO  |            0|NAO INFORMADO  |          25|PAMPULHA       |POLICIA MILITAR|           Nï¿½O|                   0|0000603966.58|0007803086.01|           SIM|               Nï¿½O|        0|NÃO INFORMADO|         00/00/0000|               0|       NÃO INFORMADO|19/02/2019 07:12|           1|BELO HORIZONTE   ...|              1|        58467|            AVE|PROFESSOR CLOVIS ...|                     AVE|    DA RESSACA       ...|      742|BANDEIRANTES     ...|         B | BAIRRO           ...|     1525|                0|\n",
      "|2019-007833344-001| 19/02/2019 07:12|          2|       S|             1|NAO FATAL      |   M|            NÃO|NÃO INFORMADO|    0|00/00/0000|                  N  | NAO INFORMADO    ...|               0|                    0|MOTOCICLETA      ...|    null|      null| 19/02/2019 07:12|19/02/2019 08:17|       H01002|ABALROAMENTO COM ...|        0|NAO INFORMADO  |            0|NAO INFORMADO  |          25|PAMPULHA       |POLICIA MILITAR|           Nï¿½O|                   0|0000603966.58|0007803086.01|           SIM|               Nï¿½O|        0|NÃO INFORMADO|         00/00/0000|               0|       NÃO INFORMADO|19/02/2019 07:12|           1|BELO HORIZONTE   ...|              1|        58467|            AVE|PROFESSOR CLOVIS ...|                     AVE|    DA RESSACA       ...|      742|BANDEIRANTES     ...|         B | BAIRRO           ...|     1525|                0|\n",
      "|2019-007834678-001| 19/02/2019 08:04|          1|       S|             3|SEM FERIMENTOS |   M|            SIM|          NÃO|   28|23/02/1990|                  B  | VEICULOS MOTOR. C...|               0|                    0|AUTOMOVEL        ...|       N|         N| 19/02/2019 08:04|19/02/2019 08:27|       H01002|ABALROAMENTO COM ...|        0|NAO INFORMADO  |            0|NAO INFORMADO  |          22|NOROESTE       |POLICIA MILITAR|           Nï¿½O|                   0|0000606404.07|0007798390.76|           SIM|               Nï¿½O|        0|NÃO INFORMADO|         00/00/0000|               0|       NÃO INFORMADO|19/02/2019 08:04|           1|BELO HORIZONTE   ...|              1|        53145|            AVE|DOM PEDRO II     ...|                     AVE|    CARLOS PRATES    ...|      704|JARDIM MONTANHES ...|         B | BAIRRO           ...|     4715|                0|\n",
      "|2019-007834678-001| 19/02/2019 08:04|          2|       S|             1|NAO FATAL      |   M|            SIM|          NÃO|   38|29/12/1980|                  AB | HABILITADO NAS CA...|               0|                    0|MOTOCICLETA      ...|       N|         N| 19/02/2019 08:04|19/02/2019 08:27|       H01002|ABALROAMENTO COM ...|        0|NAO INFORMADO  |            0|NAO INFORMADO  |          22|NOROESTE       |POLICIA MILITAR|           Nï¿½O|                   0|0000606404.07|0007798390.76|           SIM|               Nï¿½O|        0|NÃO INFORMADO|         00/00/0000|               0|       NÃO INFORMADO|19/02/2019 08:04|           1|BELO HORIZONTE   ...|              1|        53145|            AVE|DOM PEDRO II     ...|                     AVE|    CARLOS PRATES    ...|      704|JARDIM MONTANHES ...|         B | BAIRRO           ...|     4715|                0|\n",
      "|2019-007845050-001| 19/02/2019 08:42|          1|       S|             3|SEM FERIMENTOS |   F|            SIM|          NÃO|   28|26/02/1990|                  B  | VEICULOS MOTOR. C...|               0|                    0|AUTOMOVEL        ...|       N|         N| 19/02/2019 08:42|19/02/2019 09:35|       H01002|ABALROAMENTO COM ...|        2|CHUVA          |            1|ASFALTO        |          19|CENTRO-SUL     |POLICIA MILITAR|           Nï¿½O|                  40|0000610213.28|0007795465.94|           SIM|               Nï¿½O|        0|NÃO INFORMADO|         00/00/0000|               0|       NÃO INFORMADO|19/02/2019 08:42|           1|BELO HORIZONTE   ...|              1|        27953|            RUA|FELIPE DOS SANTOS...|                     NI |    N?O INFORMADO    ...|      715|LOURDES          ...|         B | BAIRRO           ...|        0|                0|\n",
      "|2019-007845050-001| 19/02/2019 08:42|          1|       S|             3|SEM FERIMENTOS |   F|            SIM|          NÃO|   28|26/02/1990|                  B  | VEICULOS MOTOR. C...|               0|                    0|AUTOMOVEL        ...|       N|         N| 19/02/2019 08:42|19/02/2019 09:35|       H01002|ABALROAMENTO COM ...|        2|CHUVA          |            1|ASFALTO        |          19|CENTRO-SUL     |POLICIA MILITAR|           Nï¿½O|                  40|0000610213.28|0007795465.94|           SIM|               Nï¿½O|        0|NÃO INFORMADO|         00/00/0000|               0|       NÃO INFORMADO|19/02/2019 08:42|           1|BELO HORIZONTE   ...|              2|        60400|            RUA|SANTA CATARINA   ...|                     NI |    N?O INFORMADO    ...|      715|LOURDES          ...|         B | BAIRRO           ...|        0|                0|\n",
      "|2019-007845050-001| 19/02/2019 08:42|          2|       S|             1|NAO FATAL      |   M|            SIM|          NÃO|   44|25/10/1974|                  AB | HABILITADO NAS CA...|               0|                    0|MOTOCICLETA      ...|       N|         N| 19/02/2019 08:42|19/02/2019 09:35|       H01002|ABALROAMENTO COM ...|        2|CHUVA          |            1|ASFALTO        |          19|CENTRO-SUL     |POLICIA MILITAR|           Nï¿½O|                  40|0000610213.28|0007795465.94|           SIM|               Nï¿½O|        0|NÃO INFORMADO|         00/00/0000|               0|       NÃO INFORMADO|19/02/2019 08:42|           1|BELO HORIZONTE   ...|              1|        27953|            RUA|FELIPE DOS SANTOS...|                     NI |    N?O INFORMADO    ...|      715|LOURDES          ...|         B | BAIRRO           ...|        0|                0|\n",
      "|2019-007845050-001| 19/02/2019 08:42|          2|       S|             1|NAO FATAL      |   M|            SIM|          NÃO|   44|25/10/1974|                  AB | HABILITADO NAS CA...|               0|                    0|MOTOCICLETA      ...|       N|         N| 19/02/2019 08:42|19/02/2019 09:35|       H01002|ABALROAMENTO COM ...|        2|CHUVA          |            1|ASFALTO        |          19|CENTRO-SUL     |POLICIA MILITAR|           Nï¿½O|                  40|0000610213.28|0007795465.94|           SIM|               Nï¿½O|        0|NÃO INFORMADO|         00/00/0000|               0|       NÃO INFORMADO|19/02/2019 08:42|           1|BELO HORIZONTE   ...|              2|        60400|            RUA|SANTA CATARINA   ...|                     NI |    N?O INFORMADO    ...|      715|LOURDES          ...|         B | BAIRRO           ...|        0|                0|\n",
      "+------------------+-----------------+-----------+--------+--------------+---------------+----+---------------+-------------+-----+----------+---------------------+---------------------+----------------+---------------------+--------------------+--------+----------+-----------------+----------------+-------------+--------------------+---------+---------------+-------------+---------------+------------+---------------+---------------+----------------+--------------------+-------------+-------------+--------------+--------------------+---------+-------------+-------------------+----------------+--------------------+----------------+------------+--------------------+---------------+-------------+---------------+--------------------+------------------------+------------------------+---------+--------------------+-----------+---------------------+---------+-----------------+\n",
      "only showing top 20 rows\n",
      "\n"
     ]
    }
   ],
   "source": [
    "tabela = pessoasAcidentesTransito.join(ocorrenciasTransito, on='num_boletim', how='left')\n",
    "\n",
    "tabela = tabela.join(logradourosAcidentesTransito, on='num_boletim', how='left')\n",
    "\n",
    "tabela.show()"
   ]
  },
  {
   "cell_type": "markdown",
   "metadata": {},
   "source": [
    "## Total de acidentes com vítima por bairro em acidentes com embriaguez"
   ]
  },
  {
   "cell_type": "code",
   "execution_count": 34,
   "metadata": {},
   "outputs": [
    {
     "name": "stdout",
     "output_type": "stream",
     "text": [
      "+--------------------+---------------------------------------------+\n",
      "|         nome_bairro|Total de acidentes por embriaguez com vítimas|\n",
      "+--------------------+---------------------------------------------+\n",
      "|PAQUETA          ...|                                            1|\n",
      "|SANTO ANTONIO    ...|                                            2|\n",
      "|LOURDES          ...|                                           11|\n",
      "|SION             ...|                                            1|\n",
      "|HELIOPOLIS       ...|                                            8|\n",
      "|SILVEIRA         ...|                                            5|\n",
      "|DOM SILVERIO     ...|                                            1|\n",
      "|CAICARAS         ...|                                            2|\n",
      "|SANTO ANDRE      ...|                                            2|\n",
      "|IPIRANGA         ...|                                            3|\n",
      "|SANTA HELENA     ...|                                            2|\n",
      "|JARDIM LEBLON    ...|                                            1|\n",
      "|SAO GABRIEL      ...|                                            4|\n",
      "|JOAO PINHEIRO    ...|                                            1|\n",
      "|BELVEDERE        ...|                                            1|\n",
      "|SAO GERALDO      ...|                                            2|\n",
      "|JARDIM AMERICA   ...|                                            4|\n",
      "|LETICIA          ...|                                            4|\n",
      "|SANTA BRANCA     ...|                                            4|\n",
      "|SANTA TEREZA     ...|                                            4|\n",
      "+--------------------+---------------------------------------------+\n",
      "only showing top 20 rows\n",
      "\n"
     ]
    }
   ],
   "source": [
    "import pyspark.sql.functions as F\n",
    "\n",
    "ComVitima = tabela.filter(tabela.DESC_TIPO_ACIDENTE.like('%VITIMA%'))\n",
    "Embriaguez = ComVitima.filter(ComVitima.Embreagues == 'SIM')\n",
    "TotalEmbriaguez = Embriaguez.select('nome_bairro').groupby('nome_bairro').agg(F.count('*').alias('Total de acidentes por embriaguez com vítimas'))\n",
    "\n",
    "TotalEmbriaguez.show()"
   ]
  },
  {
   "cell_type": "markdown",
   "metadata": {},
   "source": [
    "## Total de acidentes por tipo de pavimento e condição do tempo"
   ]
  },
  {
   "cell_type": "code",
   "execution_count": 33,
   "metadata": {},
   "outputs": [
    {
     "name": "stdout",
     "output_type": "stream",
     "text": [
      "+---------------+---------------+----------------------------------------+\n",
      "|      PAVIMENTO|     DESC_TEMPO|Total de acidentes por pavimento e tempo|\n",
      "+---------------+---------------+----------------------------------------+\n",
      "|CALCAMENTO     |CHUVA          |                                       4|\n",
      "|CALCAMENTO     |NAO INFORMADO  |                                       1|\n",
      "|NAO INFORMADO  |NAO INFORMADO  |                                    6942|\n",
      "|NAO INFORMADO  |NUBLADO        |                                       2|\n",
      "|CONCRETO       |NUBLADO        |                                       6|\n",
      "|ASFALTO        |BOM            |                                    5356|\n",
      "|NAO INFORMADO  |CHUVA          |                                       6|\n",
      "|TERRA          |BOM            |                                       1|\n",
      "|ASFALTO        |NEBLINA        |                                       7|\n",
      "|CONCRETO       |BOM            |                                      58|\n",
      "|CALCAMENTO     |NUBLADO        |                                       3|\n",
      "|ASFALTO        |CHUVA          |                                     482|\n",
      "|CALCAMENTO     |BOM            |                                      34|\n",
      "|NAO INFORMADO  |BOM            |                                      41|\n",
      "|TERRA          |NUBLADO        |                                       1|\n",
      "|CONCRETO       |CHUVA          |                                       4|\n",
      "|ASFALTO        |NUBLADO        |                                     270|\n",
      "|ASFALTO        |NAO INFORMADO  |                                     123|\n",
      "|CONCRETO       |NAO INFORMADO  |                                       1|\n",
      "+---------------+---------------+----------------------------------------+\n",
      "\n"
     ]
    }
   ],
   "source": [
    "TotalTempo = ocorrenciasTransito.select('PAVIMENTO', 'DESC_TEMPO').groupby('PAVIMENTO', 'DESC_TEMPO').agg(F.count('*').alias('Total de acidentes por pavimento e tempo'))\n",
    "\n",
    "TotalTempo.show()"
   ]
  },
  {
   "cell_type": "markdown",
   "metadata": {},
   "source": [
    "## Total de pessoas acidentadas por tipo de veiculo e tipo de pavimentação"
   ]
  },
  {
   "cell_type": "code",
   "execution_count": 36,
   "metadata": {},
   "outputs": [
    {
     "name": "stdout",
     "output_type": "stream",
     "text": [
      "+---------------+--------------------+----------------+\n",
      "|      PAVIMENTO|     especie_veiculo|sum(n_envolvido)|\n",
      "+---------------+--------------------+----------------+\n",
      "|CALCAMENTO     |CAMINHAO         ...|             3.0|\n",
      "|CONCRETO       |MOTONETA         ...|             4.0|\n",
      "|NAO INFORMADO  |TRACAO           ...|             2.0|\n",
      "|CALCAMENTO     |                 ...|            15.0|\n",
      "|NAO INFORMADO  |REBOQUE E SEMI-RE...|             6.0|\n",
      "|NAO INFORMADO  |AUTOMOVEL        ...|         13659.0|\n",
      "|CALCAMENTO     |CAMINHONETE      ...|             2.0|\n",
      "|NAO INFORMADO  |CICLOMOTOR       ...|             4.0|\n",
      "|NAO INFORMADO  |MOTONETA         ...|           146.0|\n",
      "|ASFALTO        |MOTOCICLETA      ...|         11479.0|\n",
      "|ASFALTO        |MOTONETA         ...|           147.0|\n",
      "|ASFALTO        |TRATOR DE RODAS  ...|             6.0|\n",
      "|CONCRETO       |MOTOCICLETA      ...|           130.0|\n",
      "|NAO INFORMADO  |CAMINHAO-TRATOR  ...|            11.0|\n",
      "|NAO INFORMADO  |CAMIONETA        ...|           232.0|\n",
      "|CONCRETO       |CAMINHONETE      ...|            14.0|\n",
      "|ASFALTO        |                 ...|          1697.0|\n",
      "|NAO INFORMADO  |TAXI             ...|             3.0|\n",
      "|ASFALTO        |CAMINHAO         ...|           592.0|\n",
      "|NAO INFORMADO  |BICICLETA        ...|           573.0|\n",
      "+---------------+--------------------+----------------+\n",
      "only showing top 20 rows\n",
      "\n"
     ]
    }
   ],
   "source": [
    "TotalTipo = tabela.select('PAVIMENTO', 'especie_veiculo', 'n_envolvido').groupby('PAVIMENTO', 'especie_veiculo').agg({'n_envolvido':'sum'}).alias('Total de acidentes por veículo e pavimento')\n",
    "\n",
    "TotalTipo.show()"
   ]
  },
  {
   "cell_type": "markdown",
   "metadata": {},
   "source": [
    "## Média de idade dos condutores por tipo de veículo e tipo de acidente"
   ]
  },
  {
   "cell_type": "code",
   "execution_count": 31,
   "metadata": {},
   "outputs": [
    {
     "name": "stdout",
     "output_type": "stream",
     "text": [
      "+--------------------+--------------------+------------------+\n",
      "|  DESC_TIPO_ACIDENTE|     especie_veiculo|        avg(Idade)|\n",
      "+--------------------+--------------------+------------------+\n",
      "|ABALROAMENTO COM ...|TRATOR DE RODAS  ...|              33.0|\n",
      "|ATROPELAMENTO DE ...|AUTOMOVEL        ...|              25.0|\n",
      "|CHOQUE MECANICO C...|KOMBI            ...|45.714285714285715|\n",
      "|COLISAO DE VEICUL...|PATINETE         ...|              16.5|\n",
      "|ATROPELAMENTO DE ...|AUTOMOVEL        ...| 35.83870967741935|\n",
      "|QUEDA DE PESSOA D...|CAMINHONETE      ...|              19.0|\n",
      "|ABALROAMENTO COM ...|CICLOMOTOR       ...|              34.5|\n",
      "|COLISAO DE VEICUL...|MOTOCICLETA      ...|29.900095602294456|\n",
      "|COLISAO DE VEICUL...|CARRO DE MAO     ...|35.166666666666664|\n",
      "|CHOQUE MECANICO C...|CAMINHAO-TRATOR  ...|              41.9|\n",
      "|ATROPELAMENTO DE ...|NAO INFORMADO    ...| 9.736842105263158|\n",
      "|CAPOTAMENTO/TOMBA...|ONIBUS           ...|39.714285714285715|\n",
      "|CAPOTAMENTO/TOMBA...|BICICLETA        ...| 41.57142857142857|\n",
      "|ATROPELAMENTO DE ...|MOTOCICLETA      ...| 33.78947368421053|\n",
      "|CAPOTAMENTO/TOMBA...|CAMINHONETE      ...|              38.0|\n",
      "|ATROPELAMENTO DE ...|CAMINHAO-TRATOR  ...|              23.5|\n",
      "|QUEDA E/OU VAZAME...|MOTOCICLETA      ...|              30.5|\n",
      "|ABALROAMENTO COM ...|TRACAO           ...|              66.0|\n",
      "|COLISAO DE VEICUL...|MICROONIBUS      ...| 43.94117647058823|\n",
      "|COLISAO DE VEICUL...|KOMBI            ...|              26.5|\n",
      "+--------------------+--------------------+------------------+\n",
      "only showing top 20 rows\n",
      "\n"
     ]
    }
   ],
   "source": [
    "Condutor = tabela.filter(tabela.condutor == 'S')\n",
    "MediaTipo = Condutor.select('DESC_TIPO_ACIDENTE', 'especie_veiculo', 'Idade').groupby('DESC_TIPO_ACIDENTE', 'especie_veiculo').agg({'Idade':'mean'}).alias('Total de acidentes por veículo e pavimento')\n",
    "\n",
    "MediaTipo.show()"
   ]
  },
  {
   "cell_type": "markdown",
   "metadata": {},
   "source": [
    "## Média de idade dos condutores por indicativo de embriaguez"
   ]
  },
  {
   "cell_type": "code",
   "execution_count": 23,
   "metadata": {},
   "outputs": [
    {
     "name": "stdout",
     "output_type": "stream",
     "text": [
      "+-----------------+\n",
      "|       avg(Idade)|\n",
      "+-----------------+\n",
      "|37.80203045685279|\n",
      "+-----------------+\n",
      "\n"
     ]
    }
   ],
   "source": [
    "Embriagado = tabela.filter(tabela.Embreagues == 'SIM')\n",
    "MediaTipo = Embriagado.agg({'Idade':'mean'}).alias('Total de acidentes por veículo e pavimento')\n",
    "\n",
    "MediaTipo.show()"
   ]
  }
 ],
 "metadata": {
  "kernelspec": {
   "display_name": "Python 2",
   "language": "python",
   "name": "python2"
  },
  "language_info": {
   "codemirror_mode": {
    "name": "ipython",
    "version": 2
   },
   "file_extension": ".py",
   "mimetype": "text/x-python",
   "name": "python",
   "nbconvert_exporter": "python",
   "pygments_lexer": "ipython2",
   "version": "2.7.12"
  }
 },
 "nbformat": 4,
 "nbformat_minor": 2
}
