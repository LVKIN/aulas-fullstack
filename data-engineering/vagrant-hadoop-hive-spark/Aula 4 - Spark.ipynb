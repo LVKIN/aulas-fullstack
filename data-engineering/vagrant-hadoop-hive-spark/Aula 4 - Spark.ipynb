{
 "cells": [
  {
   "cell_type": "markdown",
   "metadata": {},
   "source": [
    "## Carregando dados no spark"
   ]
  },
  {
   "cell_type": "code",
   "execution_count": 2,
   "metadata": {},
   "outputs": [
    {
     "name": "stdout",
     "output_type": "stream",
     "text": [
      "+-----+----------+---------+--------------------+----+\n",
      "|qt_sm|idade_conc|     sexo|             especie| cid|\n",
      "+-----+----------+---------+--------------------+----+\n",
      "|  1.0|        72|Masculino|Pensão por Morte ...|null|\n",
      "|2.813|        67|Masculino|Aposentadoria por...|null|\n",
      "|  1.0|        56| Feminino|Pensão por Morte ...|null|\n",
      "|  1.0|        60|Masculino|Aposentadoria por...|null|\n",
      "|  1.0|        66|Masculino|Amparo Social ao ...|null|\n",
      "|1.111|        36|Masculino|Auxílio Doenca Pr...|null|\n",
      "|  1.0|        63| Feminino|Aposentadoria por...|null|\n",
      "|  1.0|        51| Feminino|Aposentadoria por...|null|\n",
      "|  1.0|        60|Masculino|Aposentadoria por...|null|\n",
      "|  1.0|        55| Feminino|Aposentadoria por...|null|\n",
      "|  1.0|        60|Masculino|Aposentadoria por...|null|\n",
      "|  1.0|        57| Feminino|Aposentadoria por...|null|\n",
      "|  1.0|        56| Feminino|Aposentadoria por...|null|\n",
      "|  1.0|        57|Masculino|Auxílio Doenca Pr...|S821|\n",
      "|  1.0|        35| Feminino|Auxílio Doenca Pr...|C448|\n",
      "|  1.0|        45|Masculino|Auxílio Doenca Pr...|M658|\n",
      "|  1.0|        30| Feminino|Auxílio Doenca Pr...|I081|\n",
      "|  1.0|        48| Feminino|Auxílio Doenca Pr...|M501|\n",
      "|  1.0|        57|Masculino|Auxílio Doenca Pr...|I890|\n",
      "|  1.0|        29|Masculino|Auxílio Doenca Pr...|null|\n",
      "+-----+----------+---------+--------------------+----+\n",
      "only showing top 20 rows\n",
      "\n"
     ]
    }
   ],
   "source": [
    "# carregando arquivos do hdfs\n",
    "\n",
    "df = spark.read.csv(\"hdfs://node1:8020//user/vagrant/beneficios/*\", sep=';', header=True, encoding = 'latin1')\n",
    "\n",
    "df.show()"
   ]
  },
  {
   "cell_type": "markdown",
   "metadata": {},
   "source": [
    "## Selecionando colunas"
   ]
  },
  {
   "cell_type": "code",
   "execution_count": 3,
   "metadata": {},
   "outputs": [
    {
     "name": "stdout",
     "output_type": "stream",
     "text": [
      "+--------------------+---------+\n",
      "|             especie|     sexo|\n",
      "+--------------------+---------+\n",
      "|Pensão por Morte ...|Masculino|\n",
      "|Aposentadoria por...|Masculino|\n",
      "|Pensão por Morte ...| Feminino|\n",
      "|Aposentadoria por...|Masculino|\n",
      "|Amparo Social ao ...|Masculino|\n",
      "|Auxílio Doenca Pr...|Masculino|\n",
      "|Aposentadoria por...| Feminino|\n",
      "|Aposentadoria por...| Feminino|\n",
      "|Aposentadoria por...|Masculino|\n",
      "|Aposentadoria por...| Feminino|\n",
      "|Aposentadoria por...|Masculino|\n",
      "|Aposentadoria por...| Feminino|\n",
      "|Aposentadoria por...| Feminino|\n",
      "|Auxílio Doenca Pr...|Masculino|\n",
      "|Auxílio Doenca Pr...| Feminino|\n",
      "|Auxílio Doenca Pr...|Masculino|\n",
      "|Auxílio Doenca Pr...| Feminino|\n",
      "|Auxílio Doenca Pr...| Feminino|\n",
      "|Auxílio Doenca Pr...|Masculino|\n",
      "|Auxílio Doenca Pr...|Masculino|\n",
      "+--------------------+---------+\n",
      "only showing top 20 rows\n",
      "\n"
     ]
    }
   ],
   "source": [
    "df2 = df.select('especie','sexo')\n",
    "\n",
    "df2.show()"
   ]
  },
  {
   "cell_type": "markdown",
   "metadata": {},
   "source": [
    "## Filtrando dados"
   ]
  },
  {
   "cell_type": "code",
   "execution_count": 4,
   "metadata": {},
   "outputs": [
    {
     "name": "stdout",
     "output_type": "stream",
     "text": [
      "+-----+----------+--------+--------------------+----+\n",
      "|qt_sm|idade_conc|    sexo|             especie| cid|\n",
      "+-----+----------+--------+--------------------+----+\n",
      "|  1.0|        56|Feminino|Pensão por Morte ...|null|\n",
      "|  1.0|        63|Feminino|Aposentadoria por...|null|\n",
      "|  1.0|        51|Feminino|Aposentadoria por...|null|\n",
      "|  1.0|        55|Feminino|Aposentadoria por...|null|\n",
      "|  1.0|        57|Feminino|Aposentadoria por...|null|\n",
      "|  1.0|        56|Feminino|Aposentadoria por...|null|\n",
      "|  1.0|        35|Feminino|Auxílio Doenca Pr...|C448|\n",
      "|  1.0|        30|Feminino|Auxílio Doenca Pr...|I081|\n",
      "|  1.0|        48|Feminino|Auxílio Doenca Pr...|M501|\n",
      "|  1.0|        45|Feminino|Auxílio Doenca Pr...|M511|\n",
      "|  1.0|        47|Feminino|Auxílio Doenca Pr...|M531|\n",
      "|  1.0|        51|Feminino|Auxílio Doenca Pr...|M511|\n",
      "|  1.0|        57|Feminino|Auxílio Doenca Pr...|null|\n",
      "|  1.0|        30|Feminino|Auxílio Doenca Pr...|G402|\n",
      "|  1.0|        13|Feminino|Pensão por Morte ...|null|\n",
      "|  1.0|        55|Feminino|Aposentadoria por...|null|\n",
      "|  1.0|        60|Feminino|Pensão por Morte ...|null|\n",
      "|  1.0|        55|Feminino|Aposentadoria por...|null|\n",
      "|  1.0|        55|Feminino|Pensão por Morte ...|null|\n",
      "|  1.0|        65|Feminino|Amparo Social ao ...|null|\n",
      "+-----+----------+--------+--------------------+----+\n",
      "only showing top 20 rows\n",
      "\n",
      "+-----+----------+--------+--------------------+----+\n",
      "|qt_sm|idade_conc|    sexo|             especie| cid|\n",
      "+-----+----------+--------+--------------------+----+\n",
      "|  1.0|        56|Feminino|Pensão por Morte ...|null|\n",
      "|  1.0|        63|Feminino|Aposentadoria por...|null|\n",
      "|  1.0|        51|Feminino|Aposentadoria por...|null|\n",
      "|  1.0|        55|Feminino|Aposentadoria por...|null|\n",
      "|  1.0|        57|Feminino|Aposentadoria por...|null|\n",
      "|  1.0|        56|Feminino|Aposentadoria por...|null|\n",
      "|  1.0|        35|Feminino|Auxílio Doenca Pr...|C448|\n",
      "|  1.0|        30|Feminino|Auxílio Doenca Pr...|I081|\n",
      "|  1.0|        48|Feminino|Auxílio Doenca Pr...|M501|\n",
      "|  1.0|        45|Feminino|Auxílio Doenca Pr...|M511|\n",
      "|  1.0|        47|Feminino|Auxílio Doenca Pr...|M531|\n",
      "|  1.0|        51|Feminino|Auxílio Doenca Pr...|M511|\n",
      "|  1.0|        57|Feminino|Auxílio Doenca Pr...|null|\n",
      "|  1.0|        30|Feminino|Auxílio Doenca Pr...|G402|\n",
      "|  1.0|        13|Feminino|Pensão por Morte ...|null|\n",
      "|  1.0|        55|Feminino|Aposentadoria por...|null|\n",
      "|  1.0|        60|Feminino|Pensão por Morte ...|null|\n",
      "|  1.0|        55|Feminino|Aposentadoria por...|null|\n",
      "|  1.0|        55|Feminino|Pensão por Morte ...|null|\n",
      "|  1.0|        65|Feminino|Amparo Social ao ...|null|\n",
      "+-----+----------+--------+--------------------+----+\n",
      "only showing top 20 rows\n",
      "\n"
     ]
    }
   ],
   "source": [
    "# usando coluna do tipo boolean\n",
    "\n",
    "df2 = df.filter(df.sexo == 'Feminino')\n",
    "\n",
    "# usando uma expressão SQL\n",
    "\n",
    "df3 = df.filter(\"sexo == 'Feminino'\")\n",
    "\n",
    "df2.show()\n",
    "df3.show()"
   ]
  },
  {
   "cell_type": "code",
   "execution_count": 7,
   "metadata": {},
   "outputs": [
    {
     "name": "stdout",
     "output_type": "stream",
     "text": [
      "+-----+----------+--------+--------------------+----+\n",
      "|qt_sm|idade_conc|    sexo|             especie| cid|\n",
      "+-----+----------+--------+--------------------+----+\n",
      "|  1.0|        89|Feminino|Pensão por Morte ...|null|\n",
      "|  1.0|        77|Feminino|Pensão por Morte ...|null|\n",
      "|  1.0|        82|Feminino|Pensão por Morte ...|null|\n",
      "|  1.0|        78|Feminino|Pensão por Morte ...|null|\n",
      "|  1.0|        75|Feminino|Pensão por Morte ...|null|\n",
      "|  1.0|        75|Feminino|Pensão por Morte ...|null|\n",
      "|  1.0|        72|Feminino|Pensão por Morte ...|null|\n",
      "|  1.0|        75|Feminino|Pensão por Morte ...|null|\n",
      "|  1.0|        72|Feminino|Pensão por Morte ...|null|\n",
      "|  1.0|        77|Feminino|Pensão por Morte ...|null|\n",
      "|4.613|        73|Feminino|Pensão por Morte ...|null|\n",
      "|1.093|        80|Feminino|Pensão por Morte ...|null|\n",
      "|  1.0|        75|Feminino|Pensão por Morte ...|null|\n",
      "|  1.0|        72|Feminino|Pensão por Morte ...|null|\n",
      "|2.294|        89|Feminino|Pensão por Morte ...|null|\n",
      "|  1.0|        82|Feminino|Pensão por Morte ...|null|\n",
      "|  1.0|        77|Feminino|Pensão por Morte ...|null|\n",
      "|  1.0|        86|Feminino|Pensão por Morte ...|null|\n",
      "|  1.0|        88|Feminino|Pensão por Morte ...|null|\n",
      "|  1.0|        81|Feminino|Pensão por Morte ...|null|\n",
      "+-----+----------+--------+--------------------+----+\n",
      "only showing top 20 rows\n",
      "\n"
     ]
    }
   ],
   "source": [
    "# duas ou mais condições\n",
    "\n",
    "df2 = df.filter((df.idade_conc > 70) & (df.sexo == 'Feminino'))\n",
    "df2.show()"
   ]
  },
  {
   "cell_type": "code",
   "execution_count": 5,
   "metadata": {},
   "outputs": [
    {
     "name": "stdout",
     "output_type": "stream",
     "text": [
      "+-----+----------+---------+--------------------+----+\n",
      "|qt_sm|idade_conc|     sexo|             especie| cid|\n",
      "+-----+----------+---------+--------------------+----+\n",
      "| 1.44|        30|Masculino|Auxílio Doenca po...|S623|\n",
      "|  1.0|        33|Masculino|Auxílio Doenca po...|S424|\n",
      "|  1.0|        35|Masculino|Auxílio Doenca po...|S421|\n",
      "|1.151|        28|Masculino|Auxílio Doenca po...|M235|\n",
      "|  1.0|        57|Masculino|Auxílio Doenca po...|null|\n",
      "|3.657|        34|Masculino|Auxílio Doenca po...|M255|\n",
      "| 2.54|        43| Feminino|Auxílio Doenca po...|M754|\n",
      "| 1.23|        37|Masculino|Auxílio Doenca po...|M659|\n",
      "|3.986|        46|Masculino|Auxílio Doenca po...|F321|\n",
      "|1.189|        32| Feminino|Auxílio Doenca po...|null|\n",
      "|2.298|        53|Masculino|Auxílio Doenca po...|S923|\n",
      "|1.313|        51|Masculino|Auxílio Doenca po...|null|\n",
      "|  1.0|        43|Masculino|Auxílio Doenca po...|S626|\n",
      "|1.032|        33|Masculino|Auxílio Doenca po...|null|\n",
      "|  1.0|        31|Masculino|Auxílio Doenca po...|S661|\n",
      "|1.844|        41|Masculino|Auxílio Doenca po...|null|\n",
      "|4.523|        37|Masculino|Auxílio Doenca po...|M659|\n",
      "|2.535|        41| Feminino|Auxílio Doenca po...|null|\n",
      "|1.337|        30|Masculino|Auxílio Doenca po...|S723|\n",
      "|1.152|        56|Masculino|Auxílio Doenca po...|null|\n",
      "+-----+----------+---------+--------------------+----+\n",
      "only showing top 20 rows\n",
      "\n"
     ]
    }
   ],
   "source": [
    "# utilizando a expressão \"like\"\n",
    "\n",
    "df2 = df.filter(df.especie.like('%Acidente%'))\n",
    "df2.show()"
   ]
  },
  {
   "cell_type": "code",
   "execution_count": 6,
   "metadata": {},
   "outputs": [
    {
     "name": "stdout",
     "output_type": "stream",
     "text": [
      "+--------------------+-----+------------------+\n",
      "|             especie|qt_sm|    (qt_sm * 1200)|\n",
      "+--------------------+-----+------------------+\n",
      "|Pensão por Morte ...|  1.0|            1200.0|\n",
      "|Aposentadoria por...|2.813|3375.6000000000004|\n",
      "|Pensão por Morte ...|  1.0|            1200.0|\n",
      "|Aposentadoria por...|  1.0|            1200.0|\n",
      "|Amparo Social ao ...|  1.0|            1200.0|\n",
      "|Auxílio Doenca Pr...|1.111|            1333.2|\n",
      "|Aposentadoria por...|  1.0|            1200.0|\n",
      "|Aposentadoria por...|  1.0|            1200.0|\n",
      "|Aposentadoria por...|  1.0|            1200.0|\n",
      "|Aposentadoria por...|  1.0|            1200.0|\n",
      "|Aposentadoria por...|  1.0|            1200.0|\n",
      "|Aposentadoria por...|  1.0|            1200.0|\n",
      "|Aposentadoria por...|  1.0|            1200.0|\n",
      "|Auxílio Doenca Pr...|  1.0|            1200.0|\n",
      "|Auxílio Doenca Pr...|  1.0|            1200.0|\n",
      "|Auxílio Doenca Pr...|  1.0|            1200.0|\n",
      "|Auxílio Doenca Pr...|  1.0|            1200.0|\n",
      "|Auxílio Doenca Pr...|  1.0|            1200.0|\n",
      "|Auxílio Doenca Pr...|  1.0|            1200.0|\n",
      "|Auxílio Doenca Pr...|  1.0|            1200.0|\n",
      "+--------------------+-----+------------------+\n",
      "only showing top 20 rows\n",
      "\n"
     ]
    }
   ],
   "source": [
    "## colunas derivadas\n",
    "\n",
    "df2 = df.select(df.especie, df.qt_sm, df.qt_sm * 1200)\n",
    "df2.show()"
   ]
  },
  {
   "cell_type": "markdown",
   "metadata": {},
   "source": [
    "## Unindo tabelas (join)"
   ]
  },
  {
   "cell_type": "code",
   "execution_count": 8,
   "metadata": {},
   "outputs": [
    {
     "name": "stdout",
     "output_type": "stream",
     "text": [
      "+-------------+--------------------+-----------+----------+\n",
      "|          cid|              doenca|causa_obito|restr_sexo|\n",
      "+-------------+--------------------+-----------+----------+\n",
      "|NÃO INFORMADO|       NÃO INFORMADO|       null|      null|\n",
      "|         A000|Cólera devida a V...|       null|      null|\n",
      "|         A001|Cólera devida a V...|       null|      null|\n",
      "|         A009|Cólera não especi...|       null|      null|\n",
      "|         A010|       Febre tifóide|       null|      null|\n",
      "|         A011| Febre paratifóide A|       null|      null|\n",
      "|         A012| Febre paratifóide B|       null|      null|\n",
      "|         A013| Febre paratifóide C|       null|      null|\n",
      "|         A014|Febre paratifóide...|       null|      null|\n",
      "|         A020|Enterite por salm...|       null|      null|\n",
      "|         A021|Septicemia por sa...|       null|      null|\n",
      "|         A022|Infecções localiz...|       null|      null|\n",
      "|         A028|Outras infecções ...|       null|      null|\n",
      "|         A029|Infecção não espe...|       null|      null|\n",
      "|         A030|Shiguelose devida...|       null|      null|\n",
      "|         A031|Shiguelose devida...|       null|      null|\n",
      "|         A032|Shiguelose devida...|       null|      null|\n",
      "|         A033|Shiguelose devida...|       null|      null|\n",
      "|         A038|  Outras shigueloses|       null|      null|\n",
      "|         A039|Shiguelose não es...|       null|      null|\n",
      "+-------------+--------------------+-----------+----------+\n",
      "only showing top 20 rows\n",
      "\n"
     ]
    }
   ],
   "source": [
    "# carregando a tabela doencas\n",
    "\n",
    "df_doencas = spark.read.csv(\"hdfs://node1:8020//user/vagrant/doencas/*\", sep=';', header=True, encoding = 'latin1')\n",
    "df_doencas.show()"
   ]
  },
  {
   "cell_type": "code",
   "execution_count": 9,
   "metadata": {},
   "outputs": [
    {
     "name": "stdout",
     "output_type": "stream",
     "text": [
      "+----+-----+----------+---------+--------------------+--------------------+-----------+----------+\n",
      "| cid|qt_sm|idade_conc|     sexo|             especie|              doenca|causa_obito|restr_sexo|\n",
      "+----+-----+----------+---------+--------------------+--------------------+-----------+----------+\n",
      "|null|  1.0|        72|Masculino|Pensão por Morte ...|                null|       null|      null|\n",
      "|null|2.813|        67|Masculino|Aposentadoria por...|                null|       null|      null|\n",
      "|null|  1.0|        56| Feminino|Pensão por Morte ...|                null|       null|      null|\n",
      "|null|  1.0|        60|Masculino|Aposentadoria por...|                null|       null|      null|\n",
      "|null|  1.0|        66|Masculino|Amparo Social ao ...|                null|       null|      null|\n",
      "|null|1.111|        36|Masculino|Auxílio Doenca Pr...|                null|       null|      null|\n",
      "|null|  1.0|        63| Feminino|Aposentadoria por...|                null|       null|      null|\n",
      "|null|  1.0|        51| Feminino|Aposentadoria por...|                null|       null|      null|\n",
      "|null|  1.0|        60|Masculino|Aposentadoria por...|                null|       null|      null|\n",
      "|null|  1.0|        55| Feminino|Aposentadoria por...|                null|       null|      null|\n",
      "|null|  1.0|        60|Masculino|Aposentadoria por...|                null|       null|      null|\n",
      "|null|  1.0|        57| Feminino|Aposentadoria por...|                null|       null|      null|\n",
      "|null|  1.0|        56| Feminino|Aposentadoria por...|                null|       null|      null|\n",
      "|S821|  1.0|        57|Masculino|Auxílio Doenca Pr...|Fratura da extrem...|       null|      null|\n",
      "|C448|  1.0|        35| Feminino|Auxílio Doenca Pr...|Neoplasia maligna...|       null|      null|\n",
      "|M658|  1.0|        45|Masculino|Auxílio Doenca Pr...|Outras sinovites ...|          N|      null|\n",
      "|I081|  1.0|        30| Feminino|Auxílio Doenca Pr...|Transtornos de am...|       null|      null|\n",
      "|M501|  1.0|        48| Feminino|Auxílio Doenca Pr...|Transtorno do dis...|       null|      null|\n",
      "|I890|  1.0|        57|Masculino|Auxílio Doenca Pr...|Linfedema não cla...|       null|      null|\n",
      "|null|  1.0|        29|Masculino|Auxílio Doenca Pr...|                null|       null|      null|\n",
      "+----+-----+----------+---------+--------------------+--------------------+-----------+----------+\n",
      "only showing top 20 rows\n",
      "\n"
     ]
    }
   ],
   "source": [
    "# juntando as tabelas\n",
    "\n",
    "df2 = df.join(df_doencas, on='cid', how='left')\n",
    "\n",
    "df2.show()"
   ]
  },
  {
   "cell_type": "markdown",
   "metadata": {},
   "source": [
    "## Execício 01\n",
    "\n",
    "1. Carregue os arquivos beneficios.csv e doencas.csv no spark\n",
    "2. Liste a idade, sexo e especie apenas para o sexo 'Masculino' cuja doença seja restrita ao sexo 'F' "
   ]
  },
  {
   "cell_type": "code",
   "execution_count": 26,
   "metadata": {},
   "outputs": [
    {
     "name": "stdout",
     "output_type": "stream",
     "text": [
      "+----------+---------+--------------------+----------+\n",
      "|idade_conc|     sexo|             especie|restr_sexo|\n",
      "+----------+---------+--------------------+----------+\n",
      "|        39|Masculino|Auxílio Doenca Pr...|         F|\n",
      "|        41|Masculino|Auxílio Doenca Pr...|         F|\n",
      "|        25|Masculino|Auxílio Doenca Pr...|         F|\n",
      "|        36|Masculino|Auxílio Doenca Pr...|         F|\n",
      "|        61|Masculino|Amp. Social Pesso...|         F|\n",
      "|        46|Masculino|Auxílio Doenca Pr...|         F|\n",
      "|        38|Masculino|Auxílio Doenca Pr...|         F|\n",
      "+----------+---------+--------------------+----------+\n",
      "\n"
     ]
    }
   ],
   "source": [
    "# resposta do execício\n",
    "\n",
    "df2.select(df2.idade_conc, df2.sexo, df2.especie, df2.restr_sexo).filter((df2.sexo == 'Masculino') & (df2.restr_sexo == 'F')).show()"
   ]
  },
  {
   "cell_type": "markdown",
   "metadata": {},
   "source": [
    "## Agrupando dados"
   ]
  },
  {
   "cell_type": "code",
   "execution_count": 28,
   "metadata": {},
   "outputs": [
    {
     "name": "stdout",
     "output_type": "stream",
     "text": [
      "+--------------------+------+\n",
      "|             especie| count|\n",
      "+--------------------+------+\n",
      "|Aposent. Tempo de...|   490|\n",
      "|Auxílio Acidente ...|   860|\n",
      "|    Auxílio Reclusão|   616|\n",
      "|Amp. Social Pesso...| 10360|\n",
      "|Aposentadoria Esp...|  1879|\n",
      "|Auxílio Doenca Pr...|144916|\n",
      "|Renda Mensal Vita...|     1|\n",
      "|Pensão Vitalícia ...|     4|\n",
      "|Pensão Vitalícia ...|    13|\n",
      "|Aposentadoria Inv...|  6504|\n",
      "|Auxílio Salario M...| 33021|\n",
      "|Pensão Vitalícia ...|     6|\n",
      "|Pensão por Morte ...|     1|\n",
      "|Pensão por Morte ...| 35663|\n",
      "|Pensão por Morte ...|     2|\n",
      "|Aposentadoria por...| 15025|\n",
      "|    Auxílio Acidente|  1469|\n",
      "|Aposent. Invalide...|   287|\n",
      "|Aposentadoria por...| 45056|\n",
      "|       Auxilio União|  1190|\n",
      "+--------------------+------+\n",
      "only showing top 20 rows\n",
      "\n"
     ]
    }
   ],
   "source": [
    "# agrupando por uma coluna\n",
    "\n",
    "df3 = df2.groupby('especie').count()\n",
    "df3.show()"
   ]
  },
  {
   "cell_type": "code",
   "execution_count": 29,
   "metadata": {},
   "outputs": [
    {
     "name": "stdout",
     "output_type": "stream",
     "text": [
      "+--------------------+---------+-----+\n",
      "|             especie|     sexo|count|\n",
      "+--------------------+---------+-----+\n",
      "|    Auxílio Reclusão| Feminino|  345|\n",
      "|Pensão por Morte ...| Feminino|    3|\n",
      "|       Auxilio União|Masculino|  767|\n",
      "|Auxílio Salario M...| Feminino|32994|\n",
      "|Pensão Vitalícia ...| Feminino|    2|\n",
      "|Pensão por Morte ...|Masculino| 9451|\n",
      "|Aposentadoria por...|Masculino| 9899|\n",
      "|Auxílio Acidente ...| Feminino|  203|\n",
      "|Auxílio Suplement...|Masculino|    5|\n",
      "|Amparo Social ao ...| Feminino| 7211|\n",
      "|Renda Mensal Vita...|Masculino|    1|\n",
      "|Aposentadoria Esp...| Feminino|  250|\n",
      "|Pensão Vitalícia ...|Masculino|    4|\n",
      "|Pensão por Morte ...| Feminino|    2|\n",
      "|Pensao Especial H...|Masculino|    3|\n",
      "|Pensão por Morte ...|Masculino|    6|\n",
      "|Aposentadoria Inv...| Feminino| 2927|\n",
      "|Aposentadoria Inv...|Masculino| 3577|\n",
      "|Aposent. Invalide...|Masculino|  198|\n",
      "|       Auxilio União| Feminino|  423|\n",
      "+--------------------+---------+-----+\n",
      "only showing top 20 rows\n",
      "\n"
     ]
    }
   ],
   "source": [
    "# agrupando por mais de uma coluna\n",
    "\n",
    "df2.groupby('especie','sexo').count().show()"
   ]
  },
  {
   "cell_type": "code",
   "execution_count": 30,
   "metadata": {},
   "outputs": [
    {
     "name": "stdout",
     "output_type": "stream",
     "text": [
      "+--------------------+---------+------------------+------------------+\n",
      "|             especie|     sexo|   avg(idade_conc)|        sum(qt_sm)|\n",
      "+--------------------+---------+------------------+------------------+\n",
      "|    Auxílio Reclusão| Feminino|18.452173913043477|           413.403|\n",
      "|Pensão por Morte ...| Feminino| 76.33333333333333|           133.746|\n",
      "|       Auxilio União|Masculino| 19.73272490221643| 440.2580000000034|\n",
      "|Auxílio Salario M...| Feminino|29.273746741831847| 35346.96599999974|\n",
      "|Pensão Vitalícia ...| Feminino|              52.5|             1.946|\n",
      "|Pensão por Morte ...|Masculino| 53.76933657813988|         11707.342|\n",
      "|Aposentadoria por...|Masculino|57.090312152742705| 21845.07100000001|\n",
      "|Auxílio Acidente ...| Feminino|40.995073891625616|143.47400000000002|\n",
      "|Auxílio Suplement...|Masculino|              66.0|1.4149999999999998|\n",
      "|Amparo Social ao ...| Feminino| 66.99639439744834|            7211.0|\n",
      "|Renda Mensal Vita...|Masculino|              61.0|               1.0|\n",
      "|Aposentadoria Esp...| Feminino|              50.6|           777.551|\n",
      "|Pensão Vitalícia ...|Masculino|             41.25|               4.0|\n",
      "|Pensão por Morte ...| Feminino|              61.0|             5.911|\n",
      "|Pensao Especial H...|Masculino|60.666666666666664|5.9190000000000005|\n",
      "|Pensão por Morte ...|Masculino|              21.5|11.107999999999999|\n",
      "|Aposentadoria Inv...| Feminino|53.898530919029724|3467.6079999999984|\n",
      "|Aposentadoria Inv...|Masculino| 53.45317305004193| 4893.957999999999|\n",
      "|Aposent. Invalide...|Masculino| 50.91414141414141|390.92699999999996|\n",
      "|       Auxilio União| Feminino|  23.3451536643026|242.80200000000042|\n",
      "+--------------------+---------+------------------+------------------+\n",
      "only showing top 20 rows\n",
      "\n"
     ]
    }
   ],
   "source": [
    "# mais de uma função de agregação\n",
    "\n",
    "df2.groupby('especie','sexo').agg({'idade_conc':'mean', 'qt_sm':'sum'}).show()"
   ]
  },
  {
   "cell_type": "code",
   "execution_count": 31,
   "metadata": {},
   "outputs": [
    {
     "name": "stdout",
     "output_type": "stream",
     "text": [
      "+--------------------+---------+------------------+------------------+\n",
      "|             especie|     sexo|       media_idade|       valor_total|\n",
      "+--------------------+---------+------------------+------------------+\n",
      "|    Auxílio Reclusão| Feminino|18.452173913043477|           413.403|\n",
      "|Pensão por Morte ...| Feminino| 76.33333333333333|           133.746|\n",
      "|       Auxilio União|Masculino| 19.73272490221643| 440.2580000000034|\n",
      "|Auxílio Salario M...| Feminino|29.273746741831847| 35346.96599999974|\n",
      "|Pensão Vitalícia ...| Feminino|              52.5|             1.946|\n",
      "|Pensão por Morte ...|Masculino| 53.76933657813988|         11707.342|\n",
      "|Aposentadoria por...|Masculino|57.090312152742705| 21845.07100000001|\n",
      "|Auxílio Acidente ...| Feminino|40.995073891625616|143.47400000000002|\n",
      "|Auxílio Suplement...|Masculino|              66.0|1.4149999999999998|\n",
      "|Amparo Social ao ...| Feminino| 66.99639439744834|            7211.0|\n",
      "|Renda Mensal Vita...|Masculino|              61.0|               1.0|\n",
      "|Aposentadoria Esp...| Feminino|              50.6|           777.551|\n",
      "|Pensão Vitalícia ...|Masculino|             41.25|               4.0|\n",
      "|Pensão por Morte ...| Feminino|              61.0|             5.911|\n",
      "|Pensao Especial H...|Masculino|60.666666666666664|5.9190000000000005|\n",
      "|Pensão por Morte ...|Masculino|              21.5|11.107999999999999|\n",
      "|Aposentadoria Inv...| Feminino|53.898530919029724|3467.6079999999984|\n",
      "|Aposentadoria Inv...|Masculino| 53.45317305004193| 4893.957999999999|\n",
      "|Aposent. Invalide...|Masculino| 50.91414141414141|390.92699999999996|\n",
      "|       Auxilio União| Feminino|  23.3451536643026|242.80200000000042|\n",
      "+--------------------+---------+------------------+------------------+\n",
      "only showing top 20 rows\n",
      "\n"
     ]
    }
   ],
   "source": [
    "#usando funções de agregação\n",
    "\n",
    "import pyspark.sql.functions as F\n",
    "df2.groupby('especie','sexo').agg(F.avg('idade_conc').alias('media_idade'), F.sum('qt_sm').alias('valor_total')).show()"
   ]
  },
  {
   "cell_type": "markdown",
   "metadata": {},
   "source": [
    "## Ordenando dados"
   ]
  },
  {
   "cell_type": "code",
   "execution_count": 32,
   "metadata": {},
   "outputs": [
    {
     "name": "stdout",
     "output_type": "stream",
     "text": [
      "+-----+----------+---------+--------------------+----+\n",
      "|qt_sm|idade_conc|     sexo|             especie| cid|\n",
      "+-----+----------+---------+--------------------+----+\n",
      "|2.065|      null| Feminino|Pensão por Morte ...|null|\n",
      "|4.329|      null| Feminino|Auxílio Doenca Pr...|null|\n",
      "|1.135|         0| Feminino|Pensão por Morte ...|null|\n",
      "|0.574|         0|Masculino|       Auxilio União|null|\n",
      "|  1.0|         0| Feminino|    Auxílio Reclusão|null|\n",
      "|2.089|         0|Masculino|Pensão por Morte ...|null|\n",
      "|  1.0|         0|Masculino|Amp. Social Pesso...|Q870|\n",
      "|  1.0|         0|Masculino|    Auxílio Reclusão|null|\n",
      "|  1.0|         0|Masculino|Amp. Social Pesso...|null|\n",
      "|1.296|         0|Masculino|    Auxílio Reclusão|null|\n",
      "|0.574|         0| Feminino|       Auxilio União|null|\n",
      "|1.846|         0| Feminino|Pensão por Morte ...|null|\n",
      "|1.137|         0|Masculino|Pensão por Morte ...|null|\n",
      "|1.316|         0| Feminino|    Auxílio Reclusão|null|\n",
      "|  1.0|         0| Feminino|Pensão por Morte ...|null|\n",
      "|1.186|         0| Feminino|    Auxílio Reclusão|null|\n",
      "|  1.0|         0|Masculino|Pensão por Morte ...|null|\n",
      "|1.403|         0| Feminino|Pensão por Morte ...|null|\n",
      "|  1.0|         0|Masculino|Pensão por Morte ...|null|\n",
      "|  1.0|         0| Feminino|Pensão por Morte ...|null|\n",
      "+-----+----------+---------+--------------------+----+\n",
      "only showing top 20 rows\n",
      "\n"
     ]
    }
   ],
   "source": [
    "# usando o objeto Column\n",
    "\n",
    "df.orderBy(df.idade_conc.asc()).show()"
   ]
  },
  {
   "cell_type": "code",
   "execution_count": 33,
   "metadata": {},
   "outputs": [
    {
     "name": "stdout",
     "output_type": "stream",
     "text": [
      "+-----+----------+---------+--------------------+----+\n",
      "|qt_sm|idade_conc|     sexo|             especie| cid|\n",
      "+-----+----------+---------+--------------------+----+\n",
      "|2.065|      null| Feminino|Pensão por Morte ...|null|\n",
      "|4.329|      null| Feminino|Auxílio Doenca Pr...|null|\n",
      "|1.135|         0| Feminino|Pensão por Morte ...|null|\n",
      "|0.574|         0|Masculino|       Auxilio União|null|\n",
      "|  1.0|         0| Feminino|    Auxílio Reclusão|null|\n",
      "|2.089|         0|Masculino|Pensão por Morte ...|null|\n",
      "|  1.0|         0|Masculino|Amp. Social Pesso...|Q870|\n",
      "|  1.0|         0|Masculino|    Auxílio Reclusão|null|\n",
      "|  1.0|         0|Masculino|Amp. Social Pesso...|null|\n",
      "|1.296|         0|Masculino|    Auxílio Reclusão|null|\n",
      "|0.574|         0| Feminino|       Auxilio União|null|\n",
      "|1.846|         0| Feminino|Pensão por Morte ...|null|\n",
      "|1.137|         0|Masculino|Pensão por Morte ...|null|\n",
      "|1.316|         0| Feminino|    Auxílio Reclusão|null|\n",
      "|  1.0|         0| Feminino|Pensão por Morte ...|null|\n",
      "|1.186|         0| Feminino|    Auxílio Reclusão|null|\n",
      "|  1.0|         0|Masculino|Pensão por Morte ...|null|\n",
      "|1.403|         0| Feminino|Pensão por Morte ...|null|\n",
      "|  1.0|         0|Masculino|Pensão por Morte ...|null|\n",
      "|  1.0|         0| Feminino|Pensão por Morte ...|null|\n",
      "+-----+----------+---------+--------------------+----+\n",
      "only showing top 20 rows\n",
      "\n"
     ]
    }
   ],
   "source": [
    "#usando o nome da coluna e o parametros ascending\n",
    "\n",
    "df.orderBy('idade_conc', ascending=True).show()"
   ]
  },
  {
   "cell_type": "code",
   "execution_count": 34,
   "metadata": {},
   "outputs": [
    {
     "name": "stdout",
     "output_type": "stream",
     "text": [
      "+-----+----------+---------+--------------------+----+\n",
      "|qt_sm|idade_conc|     sexo|             especie| cid|\n",
      "+-----+----------+---------+--------------------+----+\n",
      "|0.004|        82| Feminino|Pensão por Morte ...|null|\n",
      "|0.012|        55| Feminino|Pensão por Morte ...|null|\n",
      "|  0.2|        60|Masculino|Auxílio Suplement...|null|\n",
      "|  0.2|        52|Masculino|Auxílio Suplement...|null|\n",
      "|0.202|        63| Feminino|Aposentadoria por...|null|\n",
      "| 0.26|        32|Masculino|    Auxílio Acidente|null|\n",
      "| 0.28|        63| Feminino|Aposentadoria por...|null|\n",
      "|0.281|        63| Feminino|Aposentadoria por...|null|\n",
      "|  0.3|        83|Masculino|Auxílio Suplement...|null|\n",
      "|  0.3|        51|Masculino|Auxílio Acidente ...|null|\n",
      "|0.343|        69|Masculino|Auxílio Suplement...|null|\n",
      "|0.351|        39|Masculino|    Auxílio Acidente|null|\n",
      "|0.372|        66|Masculino|Auxílio Suplement...|null|\n",
      "|0.393|        52| Feminino|Pensão por Morte ...|null|\n",
      "|  0.4|        55|Masculino|Auxílio Acidente ...|null|\n",
      "|0.411|        68|Masculino|Aposentadoria por...|null|\n",
      "| 0.44|        39| Feminino|    Auxílio Acidente|null|\n",
      "|0.448|        63| Feminino|Aposentadoria por...|null|\n",
      "|0.458|        61|Masculino|    Auxílio Acidente|null|\n",
      "|0.473|        39| Feminino|Auxílio Acidente ...|null|\n",
      "+-----+----------+---------+--------------------+----+\n",
      "only showing top 20 rows\n",
      "\n"
     ]
    }
   ],
   "source": [
    "# ordenando por mais de uma coluna\n",
    "\n",
    "df.orderBy([\"qt_sm\",\"idade_conc\"],ascending=[1,0]).show()"
   ]
  },
  {
   "cell_type": "markdown",
   "metadata": {},
   "source": [
    "## Gravando dados"
   ]
  },
  {
   "cell_type": "code",
   "execution_count": 35,
   "metadata": {},
   "outputs": [],
   "source": [
    "df4 = df2.groupby('sexo','doenca').agg(F.count('*').alias('total'))\n",
    "\n",
    "# gravando dados no hdfs\n",
    "\n",
    "df4.write.csv(\"hdfs://node1:8020//user/vagrant/dados/benef_por_sexo_doenca/\", sep=';', header=True, mode='overwrite')"
   ]
  },
  {
   "cell_type": "code",
   "execution_count": 36,
   "metadata": {},
   "outputs": [],
   "source": [
    "# gravando dados no hive\n",
    "\n",
    "df4.write.saveAsTable('benef_por_sexo_doenca', mode='overwrite')"
   ]
  },
  {
   "cell_type": "code",
   "execution_count": 37,
   "metadata": {},
   "outputs": [
    {
     "name": "stdout",
     "output_type": "stream",
     "text": [
      "+---------+--------------------+-----+\n",
      "|     sexo|              doenca|total|\n",
      "+---------+--------------------+-----+\n",
      "|Masculino|Neoplasia maligna...|    9|\n",
      "|Masculino|Neoplasia benigna...|    2|\n",
      "|Masculino|Outros deslocamen...|   64|\n",
      "|Masculino|Luxação da articu...|  278|\n",
      "|Masculino|Transtorno obsess...|    6|\n",
      "| Feminino|Prolapso de cúpul...|    8|\n",
      "|Masculino|Outras neuropatia...|    2|\n",
      "|Masculino|Trombose não-piog...|    7|\n",
      "|Masculino|Fratura do antebr...|   50|\n",
      "|Masculino|Neoplasia de comp...|   10|\n",
      "| Feminino|Luxação de outras...|    4|\n",
      "| Feminino|Outros transtorno...|   33|\n",
      "| Feminino|Traumatismo de ou...|    6|\n",
      "|Masculino|Distúrbio desafia...|    7|\n",
      "|Masculino|Retinopatias de f...|   13|\n",
      "|Masculino|          Linfangite|    4|\n",
      "| Feminino|Febre não especif...|    3|\n",
      "| Feminino|Outros transtorno...|    6|\n",
      "| Feminino|Piodermite gangre...|    2|\n",
      "| Feminino|Miopatia não espe...|    2|\n",
      "+---------+--------------------+-----+\n",
      "only showing top 20 rows\n",
      "\n"
     ]
    }
   ],
   "source": [
    "spark.sql('select * from benef_por_sexo_doenca').show()"
   ]
  },
  {
   "cell_type": "markdown",
   "metadata": {},
   "source": [
    "## Exercicio 02\n",
    "\n",
    "1. Crie uma tabela chamada top10_doencas que contenha a doença, o sexo, a média de idade e o total de beneficios para as 10 maiores doenças. Use o método limit(n) para obter as n primeiras linhas do DataFrame;"
   ]
  },
  {
   "cell_type": "code",
   "execution_count": 49,
   "metadata": {},
   "outputs": [
    {
     "ename": "AttributeError",
     "evalue": "'NoneType' object has no attribute 'show'",
     "output_type": "error",
     "traceback": [
      "\u001b[0;31m---------------------------------------------------------------------------\u001b[0m",
      "\u001b[0;31mAttributeError\u001b[0m                            Traceback (most recent call last)",
      "\u001b[0;32m<ipython-input-49-f66acbdc77cf>\u001b[0m in \u001b[0;36m<module>\u001b[0;34m()\u001b[0m\n\u001b[0;32m----> 1\u001b[0;31m \u001b[0mdf2\u001b[0m\u001b[0;34m.\u001b[0m\u001b[0mfilter\u001b[0m\u001b[0;34m(\u001b[0m\u001b[0mdf2\u001b[0m\u001b[0;34m.\u001b[0m\u001b[0mdoenca\u001b[0m\u001b[0;34m.\u001b[0m\u001b[0misNotNull\u001b[0m\u001b[0;34m(\u001b[0m\u001b[0;34m)\u001b[0m\u001b[0;34m)\u001b[0m\u001b[0;34m.\u001b[0m\u001b[0mgroupby\u001b[0m\u001b[0;34m(\u001b[0m\u001b[0;34m'doenca'\u001b[0m\u001b[0;34m,\u001b[0m\u001b[0;34m'sexo'\u001b[0m\u001b[0;34m)\u001b[0m\u001b[0;34m.\u001b[0m\u001b[0magg\u001b[0m\u001b[0;34m(\u001b[0m\u001b[0mF\u001b[0m\u001b[0;34m.\u001b[0m\u001b[0mavg\u001b[0m\u001b[0;34m(\u001b[0m\u001b[0;34m'idade_conc'\u001b[0m\u001b[0;34m)\u001b[0m\u001b[0;34m.\u001b[0m\u001b[0malias\u001b[0m\u001b[0;34m(\u001b[0m\u001b[0;34m'media_idade'\u001b[0m\u001b[0;34m)\u001b[0m\u001b[0;34m,\u001b[0m \u001b[0mF\u001b[0m\u001b[0;34m.\u001b[0m\u001b[0mcount\u001b[0m\u001b[0;34m(\u001b[0m\u001b[0;34m'*'\u001b[0m\u001b[0;34m)\u001b[0m\u001b[0;34m.\u001b[0m\u001b[0malias\u001b[0m\u001b[0;34m(\u001b[0m\u001b[0;34m'total'\u001b[0m\u001b[0;34m)\u001b[0m\u001b[0;34m)\u001b[0m\u001b[0;34m.\u001b[0m\u001b[0morderBy\u001b[0m\u001b[0;34m(\u001b[0m\u001b[0;34m'total'\u001b[0m\u001b[0;34m,\u001b[0m\u001b[0mascending\u001b[0m\u001b[0;34m=\u001b[0m\u001b[0mFalse\u001b[0m\u001b[0;34m)\u001b[0m\u001b[0;34m.\u001b[0m\u001b[0mlimit\u001b[0m\u001b[0;34m(\u001b[0m\u001b[0;36m10\u001b[0m\u001b[0;34m)\u001b[0m\u001b[0;34m.\u001b[0m\u001b[0mwrite\u001b[0m\u001b[0;34m.\u001b[0m\u001b[0msaveAsTable\u001b[0m\u001b[0;34m(\u001b[0m\u001b[0;34m'top10_doencas'\u001b[0m\u001b[0;34m,\u001b[0m \u001b[0mmode\u001b[0m\u001b[0;34m=\u001b[0m\u001b[0;34m'overwrite'\u001b[0m\u001b[0;34m)\u001b[0m\u001b[0;34m.\u001b[0m\u001b[0mshow\u001b[0m\u001b[0;34m(\u001b[0m\u001b[0;34m)\u001b[0m\u001b[0;34m\u001b[0m\u001b[0m\n\u001b[0m",
      "\u001b[0;31mAttributeError\u001b[0m: 'NoneType' object has no attribute 'show'"
     ]
    }
   ],
   "source": [
    "df6 = df2.filter(df2.doenca.isNotNull()).groupby('doenca','sexo').agg(F.avg('idade_conc').alias('media_idade'), F.count('*').alias('total')).orderBy('total',ascending=False).limit(10)\n",
    ".write.saveAsTable('top10_doencas', mode='overwrite')"
   ]
  },
  {
   "cell_type": "markdown",
   "metadata": {},
   "source": [
    "## Convertendo um spark DataFrame para o Pandas\n",
    "\n",
    "df.toPandas() \n",
    "\n",
    "*Ao converter o df para o pandas, a aplicação não mais contará com os recursos de distribuição e paralelismo do Spark/Hadoop\n"
   ]
  },
  {
   "cell_type": "code",
   "execution_count": 42,
   "metadata": {},
   "outputs": [],
   "source": [
    "pdf = df.toPandas()"
   ]
  },
  {
   "cell_type": "code",
   "execution_count": 43,
   "metadata": {},
   "outputs": [
    {
     "ename": "NameError",
     "evalue": "name 'idade_conc' is not defined",
     "output_type": "error",
     "traceback": [
      "\u001b[0;31m---------------------------------------------------------------------------\u001b[0m",
      "\u001b[0;31mNameError\u001b[0m                                 Traceback (most recent call last)",
      "\u001b[0;32m<ipython-input-43-bed3674f52ef>\u001b[0m in \u001b[0;36m<module>\u001b[0;34m()\u001b[0m\n\u001b[0;32m----> 1\u001b[0;31m \u001b[0mpdf\u001b[0m\u001b[0;34m.\u001b[0m\u001b[0mplot\u001b[0m\u001b[0;34m.\u001b[0m\u001b[0mbar\u001b[0m\u001b[0;34m(\u001b[0m\u001b[0my\u001b[0m\u001b[0;34m=\u001b[0m\u001b[0midade_conc\u001b[0m\u001b[0;34m)\u001b[0m\u001b[0;34m\u001b[0m\u001b[0m\n\u001b[0m",
      "\u001b[0;31mNameError\u001b[0m: name 'idade_conc' is not defined"
     ]
    }
   ],
   "source": [
    "pdf.plot.barh(y='idade_conc')"
   ]
  },
  {
   "cell_type": "code",
   "execution_count": null,
   "metadata": {},
   "outputs": [],
   "source": []
  }
 ],
 "metadata": {
  "kernelspec": {
   "display_name": "Python 2",
   "language": "python",
   "name": "python2"
  },
  "language_info": {
   "codemirror_mode": {
    "name": "ipython",
    "version": 2
   },
   "file_extension": ".py",
   "mimetype": "text/x-python",
   "name": "python",
   "nbconvert_exporter": "python",
   "pygments_lexer": "ipython2",
   "version": "2.7.12"
  }
 },
 "nbformat": 4,
 "nbformat_minor": 2
}
